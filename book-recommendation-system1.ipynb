{
 "cells": [
  {
   "cell_type": "markdown",
   "id": "c9bbb4a9",
   "metadata": {
    "id": "_FNZpP0NHbNm",
    "papermill": {
     "duration": 0.017498,
     "end_time": "2024-05-02T05:20:58.371537",
     "exception": false,
     "start_time": "2024-05-02T05:20:58.354039",
     "status": "completed"
    },
    "tags": []
   },
   "source": [
    "<b><h1>Books Recommendation System"
   ]
  },
  {
   "cell_type": "code",
   "execution_count": 1,
   "id": "49f77e8d",
   "metadata": {
    "execution": {
     "iopub.execute_input": "2024-05-02T05:20:58.405449Z",
     "iopub.status.busy": "2024-05-02T05:20:58.404528Z",
     "iopub.status.idle": "2024-05-02T05:21:00.323949Z",
     "shell.execute_reply": "2024-05-02T05:21:00.323069Z"
    },
    "id": "5i_ZACcBHbNp",
    "papermill": {
     "duration": 1.939336,
     "end_time": "2024-05-02T05:21:00.326540",
     "exception": false,
     "start_time": "2024-05-02T05:20:58.387204",
     "status": "completed"
    },
    "tags": []
   },
   "outputs": [],
   "source": [
    "import re\n",
    "import pickle\n",
    "import operator\n",
    "import numpy as np\n",
    "import pandas as pd\n",
    "import seaborn as sns\n",
    "import matplotlib.pyplot as plt\n",
    "from collections import Counter\n",
    "from scipy.sparse import csr_matrix\n",
    "from pandas.api.types import is_numeric_dtype\n",
    "from sklearn.neighbors import NearestNeighbors\n",
    "from sklearn.feature_extraction import DictVectorizer\n",
    "from sklearn.metrics.pairwise import cosine_similarity\n",
    "from sklearn.feature_extraction.text import TfidfVectorizer\n",
    "\n",
    "import warnings\n",
    "warnings.filterwarnings(\"ignore\")"
   ]
  },
  {
   "cell_type": "markdown",
   "id": "1ff81cb0",
   "metadata": {
    "id": "tHZLBBfiHbNy",
    "papermill": {
     "duration": 0.015283,
     "end_time": "2024-05-02T05:21:00.357751",
     "exception": false,
     "start_time": "2024-05-02T05:21:00.342468",
     "status": "completed"
    },
    "tags": []
   },
   "source": [
    "<b><h3>Dataset"
   ]
  },
  {
   "cell_type": "code",
   "execution_count": 2,
   "id": "4d83dee5",
   "metadata": {
    "execution": {
     "iopub.execute_input": "2024-05-02T05:21:00.391495Z",
     "iopub.status.busy": "2024-05-02T05:21:00.390731Z",
     "iopub.status.idle": "2024-05-02T05:21:04.307622Z",
     "shell.execute_reply": "2024-05-02T05:21:04.305523Z"
    },
    "id": "XgvzNVu2HbNz",
    "outputId": "d875c6e1-1494-4f41-aed7-aa1361a39a80",
    "papermill": {
     "duration": 3.936869,
     "end_time": "2024-05-02T05:21:04.310483",
     "exception": false,
     "start_time": "2024-05-02T05:21:00.373614",
     "status": "completed"
    },
    "tags": []
   },
   "outputs": [
    {
     "name": "stdout",
     "output_type": "stream",
     "text": [
      "Books Data:     (271379, 8)\n",
      "Users Data:     (278858, 3)\n",
      "Books-ratings:  (1149780, 3)\n"
     ]
    }
   ],
   "source": [
    "books = pd.read_csv(r\"/kaggle/input/bookcrossing-dataset/Book reviews/Book reviews/BX_Books.csv\", delimiter=';', error_bad_lines=False, encoding='ISO-8859-1', warn_bad_lines=False)\n",
    "users = pd.read_csv(r\"/kaggle/input/bookcrossing-dataset/Book reviews/Book reviews/BX-Users.csv\", delimiter=';', error_bad_lines=False, encoding='ISO-8859-1', warn_bad_lines=False)\n",
    "ratings = pd.read_csv(r\"/kaggle/input/bookcrossing-dataset/Book reviews/Book reviews/BX-Book-Ratings.csv\", delimiter=';', error_bad_lines=False, encoding='ISO-8859-1', warn_bad_lines=False)\n",
    "\n",
    "print(\"Books Data:    \", books.shape)\n",
    "print(\"Users Data:    \", users.shape)\n",
    "print(\"Books-ratings: \", ratings.shape)"
   ]
  },
  {
   "cell_type": "markdown",
   "id": "3f9a17c9",
   "metadata": {
    "id": "85AzoW38PDI6",
    "papermill": {
     "duration": 0.017696,
     "end_time": "2024-05-02T05:21:04.344738",
     "exception": false,
     "start_time": "2024-05-02T05:21:04.327042",
     "status": "completed"
    },
    "tags": []
   },
   "source": [
    "<b><h3>Pre-processing"
   ]
  },
  {
   "cell_type": "markdown",
   "id": "f2add859",
   "metadata": {
    "id": "XvTKQiAYHbN4",
    "papermill": {
     "duration": 0.015587,
     "end_time": "2024-05-02T05:21:04.376141",
     "exception": false,
     "start_time": "2024-05-02T05:21:04.360554",
     "status": "completed"
    },
    "tags": []
   },
   "source": [
    "<b>Books Dataset Pre-processing"
   ]
  },
  {
   "cell_type": "code",
   "execution_count": 3,
   "id": "1b283616",
   "metadata": {
    "execution": {
     "iopub.execute_input": "2024-05-02T05:21:04.410132Z",
     "iopub.status.busy": "2024-05-02T05:21:04.409680Z",
     "iopub.status.idle": "2024-05-02T05:21:04.443395Z",
     "shell.execute_reply": "2024-05-02T05:21:04.441919Z"
    },
    "id": "y5GmtiQJHbN4",
    "outputId": "c58a2b48-86e2-4efc-ca02-24d172425117",
    "papermill": {
     "duration": 0.053246,
     "end_time": "2024-05-02T05:21:04.445673",
     "exception": false,
     "start_time": "2024-05-02T05:21:04.392427",
     "status": "completed"
    },
    "tags": []
   },
   "outputs": [
    {
     "name": "stdout",
     "output_type": "stream",
     "text": [
      "Columns:  ['ISBN', 'Book-Title', 'Book-Author', 'Year-Of-Publication', 'Publisher', 'Image-URL-S', 'Image-URL-M', 'Image-URL-L']\n"
     ]
    },
    {
     "data": {
      "text/html": [
       "<div>\n",
       "<style scoped>\n",
       "    .dataframe tbody tr th:only-of-type {\n",
       "        vertical-align: middle;\n",
       "    }\n",
       "\n",
       "    .dataframe tbody tr th {\n",
       "        vertical-align: top;\n",
       "    }\n",
       "\n",
       "    .dataframe thead th {\n",
       "        text-align: right;\n",
       "    }\n",
       "</style>\n",
       "<table border=\"1\" class=\"dataframe\">\n",
       "  <thead>\n",
       "    <tr style=\"text-align: right;\">\n",
       "      <th></th>\n",
       "      <th>ISBN</th>\n",
       "      <th>Book-Title</th>\n",
       "      <th>Book-Author</th>\n",
       "      <th>Year-Of-Publication</th>\n",
       "      <th>Publisher</th>\n",
       "      <th>Image-URL-S</th>\n",
       "      <th>Image-URL-M</th>\n",
       "      <th>Image-URL-L</th>\n",
       "    </tr>\n",
       "  </thead>\n",
       "  <tbody>\n",
       "    <tr>\n",
       "      <th>0</th>\n",
       "      <td>0195153448</td>\n",
       "      <td>Classical Mythology</td>\n",
       "      <td>Mark P. O. Morford</td>\n",
       "      <td>2002</td>\n",
       "      <td>Oxford University Press</td>\n",
       "      <td>http://images.amazon.com/images/P/0195153448.0...</td>\n",
       "      <td>http://images.amazon.com/images/P/0195153448.0...</td>\n",
       "      <td>http://images.amazon.com/images/P/0195153448.0...</td>\n",
       "    </tr>\n",
       "    <tr>\n",
       "      <th>1</th>\n",
       "      <td>0002005018</td>\n",
       "      <td>Clara Callan</td>\n",
       "      <td>Richard Bruce Wright</td>\n",
       "      <td>2001</td>\n",
       "      <td>HarperFlamingo Canada</td>\n",
       "      <td>http://images.amazon.com/images/P/0002005018.0...</td>\n",
       "      <td>http://images.amazon.com/images/P/0002005018.0...</td>\n",
       "      <td>http://images.amazon.com/images/P/0002005018.0...</td>\n",
       "    </tr>\n",
       "    <tr>\n",
       "      <th>2</th>\n",
       "      <td>0060973129</td>\n",
       "      <td>Decision in Normandy</td>\n",
       "      <td>Carlo D'Este</td>\n",
       "      <td>1991</td>\n",
       "      <td>HarperPerennial</td>\n",
       "      <td>http://images.amazon.com/images/P/0060973129.0...</td>\n",
       "      <td>http://images.amazon.com/images/P/0060973129.0...</td>\n",
       "      <td>http://images.amazon.com/images/P/0060973129.0...</td>\n",
       "    </tr>\n",
       "    <tr>\n",
       "      <th>3</th>\n",
       "      <td>0374157065</td>\n",
       "      <td>Flu: The Story of the Great Influenza Pandemic...</td>\n",
       "      <td>Gina Bari Kolata</td>\n",
       "      <td>1999</td>\n",
       "      <td>Farrar Straus Giroux</td>\n",
       "      <td>http://images.amazon.com/images/P/0374157065.0...</td>\n",
       "      <td>http://images.amazon.com/images/P/0374157065.0...</td>\n",
       "      <td>http://images.amazon.com/images/P/0374157065.0...</td>\n",
       "    </tr>\n",
       "    <tr>\n",
       "      <th>4</th>\n",
       "      <td>0393045218</td>\n",
       "      <td>The Mummies of Urumchi</td>\n",
       "      <td>E. J. W. Barber</td>\n",
       "      <td>1999</td>\n",
       "      <td>W. W. Norton &amp; Company</td>\n",
       "      <td>http://images.amazon.com/images/P/0393045218.0...</td>\n",
       "      <td>http://images.amazon.com/images/P/0393045218.0...</td>\n",
       "      <td>http://images.amazon.com/images/P/0393045218.0...</td>\n",
       "    </tr>\n",
       "  </tbody>\n",
       "</table>\n",
       "</div>"
      ],
      "text/plain": [
       "         ISBN                                         Book-Title  \\\n",
       "0  0195153448                                Classical Mythology   \n",
       "1  0002005018                                       Clara Callan   \n",
       "2  0060973129                               Decision in Normandy   \n",
       "3  0374157065  Flu: The Story of the Great Influenza Pandemic...   \n",
       "4  0393045218                             The Mummies of Urumchi   \n",
       "\n",
       "            Book-Author  Year-Of-Publication                Publisher  \\\n",
       "0    Mark P. O. Morford                 2002  Oxford University Press   \n",
       "1  Richard Bruce Wright                 2001    HarperFlamingo Canada   \n",
       "2          Carlo D'Este                 1991          HarperPerennial   \n",
       "3      Gina Bari Kolata                 1999     Farrar Straus Giroux   \n",
       "4       E. J. W. Barber                 1999   W. W. Norton & Company   \n",
       "\n",
       "                                         Image-URL-S  \\\n",
       "0  http://images.amazon.com/images/P/0195153448.0...   \n",
       "1  http://images.amazon.com/images/P/0002005018.0...   \n",
       "2  http://images.amazon.com/images/P/0060973129.0...   \n",
       "3  http://images.amazon.com/images/P/0374157065.0...   \n",
       "4  http://images.amazon.com/images/P/0393045218.0...   \n",
       "\n",
       "                                         Image-URL-M  \\\n",
       "0  http://images.amazon.com/images/P/0195153448.0...   \n",
       "1  http://images.amazon.com/images/P/0002005018.0...   \n",
       "2  http://images.amazon.com/images/P/0060973129.0...   \n",
       "3  http://images.amazon.com/images/P/0374157065.0...   \n",
       "4  http://images.amazon.com/images/P/0393045218.0...   \n",
       "\n",
       "                                         Image-URL-L  \n",
       "0  http://images.amazon.com/images/P/0195153448.0...  \n",
       "1  http://images.amazon.com/images/P/0002005018.0...  \n",
       "2  http://images.amazon.com/images/P/0060973129.0...  \n",
       "3  http://images.amazon.com/images/P/0374157065.0...  \n",
       "4  http://images.amazon.com/images/P/0393045218.0...  "
      ]
     },
     "execution_count": 3,
     "metadata": {},
     "output_type": "execute_result"
    }
   ],
   "source": [
    "print(\"Columns: \", list(books.columns))\n",
    "books.head()"
   ]
  },
  {
   "cell_type": "code",
   "execution_count": 4,
   "id": "59ce9862",
   "metadata": {
    "execution": {
     "iopub.execute_input": "2024-05-02T05:21:04.479121Z",
     "iopub.status.busy": "2024-05-02T05:21:04.478724Z",
     "iopub.status.idle": "2024-05-02T05:21:04.669182Z",
     "shell.execute_reply": "2024-05-02T05:21:04.668148Z"
    },
    "id": "x5FXDpgoHbN8",
    "outputId": "8cc385e8-9bf6-4a7a-d400-da19fad9201a",
    "papermill": {
     "duration": 0.210039,
     "end_time": "2024-05-02T05:21:04.671772",
     "exception": false,
     "start_time": "2024-05-02T05:21:04.461733",
     "status": "completed"
    },
    "tags": []
   },
   "outputs": [
    {
     "data": {
      "text/plain": [
       "ISBN                   0\n",
       "Book-Title             0\n",
       "Book-Author            1\n",
       "Year-Of-Publication    0\n",
       "Publisher              2\n",
       "dtype: int64"
      ]
     },
     "execution_count": 4,
     "metadata": {},
     "output_type": "execute_result"
    }
   ],
   "source": [
    "\n",
    "books.drop(['Image-URL-S', 'Image-URL-M', 'Image-URL-L'], axis=1, inplace=True)\n",
    "books.isnull().sum()"
   ]
  },
  {
   "cell_type": "code",
   "execution_count": 5,
   "id": "a61d456a",
   "metadata": {
    "execution": {
     "iopub.execute_input": "2024-05-02T05:21:04.707216Z",
     "iopub.status.busy": "2024-05-02T05:21:04.706876Z",
     "iopub.status.idle": "2024-05-02T05:21:04.712140Z",
     "shell.execute_reply": "2024-05-02T05:21:04.711031Z"
    },
    "id": "__WHZnoBHbOI",
    "papermill": {
     "duration": 0.025518,
     "end_time": "2024-05-02T05:21:04.714255",
     "exception": false,
     "start_time": "2024-05-02T05:21:04.688737",
     "status": "completed"
    },
    "tags": []
   },
   "outputs": [],
   "source": [
    "books.at[187689 ,'Book-Author'] = 'Other'\n",
    "books.at[187700 ,'Book-Author'] = 'Other'\n",
    "books.at[128890 ,'Publisher'] = 'Other'\n",
    "books.at[129037 ,'Publisher'] = 'Other'"
   ]
  },
  {
   "cell_type": "code",
   "execution_count": 6,
   "id": "aeb68a04",
   "metadata": {
    "execution": {
     "iopub.execute_input": "2024-05-02T05:21:04.748261Z",
     "iopub.status.busy": "2024-05-02T05:21:04.747792Z",
     "iopub.status.idle": "2024-05-02T05:21:04.761293Z",
     "shell.execute_reply": "2024-05-02T05:21:04.759278Z"
    },
    "id": "LN38SO2AHbON",
    "outputId": "bb6b44f4-d7ae-4a3f-b0c3-e7126e41c2f5",
    "papermill": {
     "duration": 0.033341,
     "end_time": "2024-05-02T05:21:04.763452",
     "exception": false,
     "start_time": "2024-05-02T05:21:04.730111",
     "status": "completed"
    },
    "tags": []
   },
   "outputs": [
    {
     "data": {
      "text/plain": [
       "array([2002, 2001, 1991, 1999, 2000, 1993, 1996, 1988, 2004, 1998, 1994,\n",
       "       2003, 1997, 1983, 1979, 1995, 1982, 1985, 1992, 1986, 1978, 1980,\n",
       "       1952, 1987, 1990, 1981, 1989, 1984,    0, 1968, 1961, 1958, 1974,\n",
       "       1976, 1971, 1977, 1975, 1965, 1941, 1970, 1962, 1973, 1972, 1960,\n",
       "       1966, 1920, 1956, 1959, 1953, 1951, 1942, 1963, 1964, 1969, 1954,\n",
       "       1950, 1967, 2005, 1957, 1940, 1937, 1955, 1946, 1936, 1930, 2011,\n",
       "       1925, 1948, 1943, 1947, 1945, 1923, 2020, 1939, 1926, 1938, 2030,\n",
       "       1911, 1904, 1949, 1932, 1928, 1929, 1927, 1931, 1914, 2050, 1934,\n",
       "       1910, 1933, 1902, 1924, 1921, 1900, 2038, 2026, 1944, 1917, 1901,\n",
       "       2010, 1908, 1906, 1935, 1806, 2021, 2012, 2006, 1909, 2008, 1378,\n",
       "       1919, 1922, 1897, 2024, 1376, 2037])"
      ]
     },
     "execution_count": 6,
     "metadata": {},
     "output_type": "execute_result"
    }
   ],
   "source": [
    "## Checking for column Year-of-publication\n",
    "books['Year-Of-Publication'].unique()"
   ]
  },
  {
   "cell_type": "code",
   "execution_count": 7,
   "id": "f9349e73",
   "metadata": {
    "execution": {
     "iopub.execute_input": "2024-05-02T05:21:04.798291Z",
     "iopub.status.busy": "2024-05-02T05:21:04.797198Z",
     "iopub.status.idle": "2024-05-02T05:21:04.808613Z",
     "shell.execute_reply": "2024-05-02T05:21:04.807397Z"
    },
    "id": "iBzWyoNuHbOS",
    "outputId": "3bd3aafa-7ebe-464c-e9f6-9b09e71b6031",
    "papermill": {
     "duration": 0.031182,
     "end_time": "2024-05-02T05:21:04.810893",
     "exception": false,
     "start_time": "2024-05-02T05:21:04.779711",
     "status": "completed"
    },
    "tags": []
   },
   "outputs": [
    {
     "data": {
      "text/html": [
       "<div>\n",
       "<style scoped>\n",
       "    .dataframe tbody tr th:only-of-type {\n",
       "        vertical-align: middle;\n",
       "    }\n",
       "\n",
       "    .dataframe tbody tr th {\n",
       "        vertical-align: top;\n",
       "    }\n",
       "\n",
       "    .dataframe thead th {\n",
       "        text-align: right;\n",
       "    }\n",
       "</style>\n",
       "<table border=\"1\" class=\"dataframe\">\n",
       "  <thead>\n",
       "    <tr style=\"text-align: right;\">\n",
       "      <th></th>\n",
       "      <th>ISBN</th>\n",
       "      <th>Book-Title</th>\n",
       "      <th>Book-Author</th>\n",
       "      <th>Year-Of-Publication</th>\n",
       "      <th>Publisher</th>\n",
       "    </tr>\n",
       "  </thead>\n",
       "  <tbody>\n",
       "  </tbody>\n",
       "</table>\n",
       "</div>"
      ],
      "text/plain": [
       "Empty DataFrame\n",
       "Columns: [ISBN, Book-Title, Book-Author, Year-Of-Publication, Publisher]\n",
       "Index: []"
      ]
     },
     "execution_count": 7,
     "metadata": {},
     "output_type": "execute_result"
    }
   ],
   "source": [
    "books.loc[books['Year-Of-Publication'] == 'DK Publishing Inc',:]"
   ]
  },
  {
   "cell_type": "code",
   "execution_count": 8,
   "id": "a374e859",
   "metadata": {
    "execution": {
     "iopub.execute_input": "2024-05-02T05:21:04.846179Z",
     "iopub.status.busy": "2024-05-02T05:21:04.845469Z",
     "iopub.status.idle": "2024-05-02T05:21:04.856273Z",
     "shell.execute_reply": "2024-05-02T05:21:04.855213Z"
    },
    "id": "wl5XyqQWHbOV",
    "outputId": "4eebe45b-aebf-4d83-ea4f-0b2e425b1750",
    "papermill": {
     "duration": 0.031236,
     "end_time": "2024-05-02T05:21:04.858746",
     "exception": false,
     "start_time": "2024-05-02T05:21:04.827510",
     "status": "completed"
    },
    "tags": []
   },
   "outputs": [
    {
     "data": {
      "text/html": [
       "<div>\n",
       "<style scoped>\n",
       "    .dataframe tbody tr th:only-of-type {\n",
       "        vertical-align: middle;\n",
       "    }\n",
       "\n",
       "    .dataframe tbody tr th {\n",
       "        vertical-align: top;\n",
       "    }\n",
       "\n",
       "    .dataframe thead th {\n",
       "        text-align: right;\n",
       "    }\n",
       "</style>\n",
       "<table border=\"1\" class=\"dataframe\">\n",
       "  <thead>\n",
       "    <tr style=\"text-align: right;\">\n",
       "      <th></th>\n",
       "      <th>ISBN</th>\n",
       "      <th>Book-Title</th>\n",
       "      <th>Book-Author</th>\n",
       "      <th>Year-Of-Publication</th>\n",
       "      <th>Publisher</th>\n",
       "    </tr>\n",
       "  </thead>\n",
       "  <tbody>\n",
       "  </tbody>\n",
       "</table>\n",
       "</div>"
      ],
      "text/plain": [
       "Empty DataFrame\n",
       "Columns: [ISBN, Book-Title, Book-Author, Year-Of-Publication, Publisher]\n",
       "Index: []"
      ]
     },
     "execution_count": 8,
     "metadata": {},
     "output_type": "execute_result"
    }
   ],
   "source": [
    "books.loc[books['Year-Of-Publication'] == 'Gallimard',:]"
   ]
  },
  {
   "cell_type": "code",
   "execution_count": 9,
   "id": "456418d8",
   "metadata": {
    "execution": {
     "iopub.execute_input": "2024-05-02T05:21:04.894987Z",
     "iopub.status.busy": "2024-05-02T05:21:04.894611Z",
     "iopub.status.idle": "2024-05-02T05:21:04.913859Z",
     "shell.execute_reply": "2024-05-02T05:21:04.912850Z"
    },
    "id": "CLblVmh1HbOY",
    "papermill": {
     "duration": 0.040378,
     "end_time": "2024-05-02T05:21:04.916356",
     "exception": false,
     "start_time": "2024-05-02T05:21:04.875978",
     "status": "completed"
    },
    "tags": []
   },
   "outputs": [],
   "source": [
    "books.at[209538 ,'Publisher'] = 'DK Publishing Inc'\n",
    "books.at[209538 ,'Year-Of-Publication'] = 2000\n",
    "books.at[209538 ,'Book-Title'] = 'DK Readers: Creating the X-Men, How It All Began (Level 4: Proficient Readers)'\n",
    "books.at[209538 ,'Book-Author'] = 'Michael Teitelbaum'\n",
    "\n",
    "books.at[221678 ,'Publisher'] = 'DK Publishing Inc'\n",
    "books.at[221678 ,'Year-Of-Publication'] = 2000\n",
    "books.at[209538 ,'Book-Title'] = 'DK Readers: Creating the X-Men, How Comic Books Come to Life (Level 4: Proficient Readers)'\n",
    "books.at[209538 ,'Book-Author'] = 'James Buckley'\n",
    "\n",
    "books.at[220731 ,'Publisher'] = 'Gallimard'\n",
    "books.at[220731 ,'Year-Of-Publication'] = '2003'\n",
    "books.at[209538 ,'Book-Title'] = 'Peuple du ciel - Suivi de Les bergers '\n",
    "books.at[209538 ,'Book-Author'] = 'Jean-Marie Gustave Le ClÃ?Â©zio'"
   ]
  },
  {
   "cell_type": "code",
   "execution_count": 10,
   "id": "1f595dba",
   "metadata": {
    "execution": {
     "iopub.execute_input": "2024-05-02T05:21:04.951539Z",
     "iopub.status.busy": "2024-05-02T05:21:04.950719Z",
     "iopub.status.idle": "2024-05-02T05:21:04.969443Z",
     "shell.execute_reply": "2024-05-02T05:21:04.968382Z"
    },
    "id": "acUEVhEQHbOb",
    "papermill": {
     "duration": 0.039034,
     "end_time": "2024-05-02T05:21:04.971855",
     "exception": false,
     "start_time": "2024-05-02T05:21:04.932821",
     "status": "completed"
    },
    "tags": []
   },
   "outputs": [],
   "source": [
    "## Converting year of publication in Numbers\n",
    "books['Year-Of-Publication'] = books['Year-Of-Publication'].astype(int)"
   ]
  },
  {
   "cell_type": "code",
   "execution_count": 11,
   "id": "8b8f19b0",
   "metadata": {
    "execution": {
     "iopub.execute_input": "2024-05-02T05:21:05.006739Z",
     "iopub.status.busy": "2024-05-02T05:21:05.006365Z",
     "iopub.status.idle": "2024-05-02T05:21:05.014398Z",
     "shell.execute_reply": "2024-05-02T05:21:05.013291Z"
    },
    "id": "avUSyhPwHbOd",
    "outputId": "1d8deb05-8b79-4917-8740-3d32d10e2d2e",
    "papermill": {
     "duration": 0.02872,
     "end_time": "2024-05-02T05:21:05.017128",
     "exception": false,
     "start_time": "2024-05-02T05:21:04.988408",
     "status": "completed"
    },
    "tags": []
   },
   "outputs": [
    {
     "name": "stdout",
     "output_type": "stream",
     "text": [
      "[0, 1376, 1378, 1806, 1897, 1900, 1901, 1902, 1904, 1906, 1908, 1909, 1910, 1911, 1914, 1917, 1919, 1920, 1921, 1922, 1923, 1924, 1925, 1926, 1927, 1928, 1929, 1930, 1931, 1932, 1933, 1934, 1935, 1936, 1937, 1938, 1939, 1940, 1941, 1942, 1943, 1944, 1945, 1946, 1947, 1948, 1949, 1950, 1951, 1952, 1953, 1954, 1955, 1956, 1957, 1958, 1959, 1960, 1961, 1962, 1963, 1964, 1965, 1966, 1967, 1968, 1969, 1970, 1971, 1972, 1973, 1974, 1975, 1976, 1977, 1978, 1979, 1980, 1981, 1982, 1983, 1984, 1985, 1986, 1987, 1988, 1989, 1990, 1991, 1992, 1993, 1994, 1995, 1996, 1997, 1998, 1999, 2000, 2001, 2002, 2003, 2004, 2005, 2006, 2008, 2010, 2011, 2012, 2020, 2021, 2024, 2026, 2030, 2037, 2038, 2050]\n"
     ]
    }
   ],
   "source": [
    "print(sorted(list(books['Year-Of-Publication'].unique())))"
   ]
  },
  {
   "cell_type": "code",
   "execution_count": 12,
   "id": "f7adf2e3",
   "metadata": {
    "execution": {
     "iopub.execute_input": "2024-05-02T05:21:05.053200Z",
     "iopub.status.busy": "2024-05-02T05:21:05.052821Z",
     "iopub.status.idle": "2024-05-02T05:21:05.108963Z",
     "shell.execute_reply": "2024-05-02T05:21:05.107818Z"
    },
    "id": "8Mo7fz3nHbOg",
    "outputId": "67ef1018-0ecd-443e-c6b9-5ff8c3b7039f",
    "papermill": {
     "duration": 0.076637,
     "end_time": "2024-05-02T05:21:05.111395",
     "exception": false,
     "start_time": "2024-05-02T05:21:05.034758",
     "status": "completed"
    },
    "tags": []
   },
   "outputs": [
    {
     "data": {
      "text/plain": [
       "[2002]"
      ]
     },
     "execution_count": 12,
     "metadata": {},
     "output_type": "execute_result"
    }
   ],
   "source": [
    "## Replacing Invalid years with max year\n",
    "count = Counter(books['Year-Of-Publication'])\n",
    "[k for k, v in count.items() if v == max(count.values())]"
   ]
  },
  {
   "cell_type": "code",
   "execution_count": 13,
   "id": "23a7207e",
   "metadata": {
    "execution": {
     "iopub.execute_input": "2024-05-02T05:21:05.148489Z",
     "iopub.status.busy": "2024-05-02T05:21:05.147692Z",
     "iopub.status.idle": "2024-05-02T05:21:05.155526Z",
     "shell.execute_reply": "2024-05-02T05:21:05.154479Z"
    },
    "id": "rUBTN5NcHbOl",
    "papermill": {
     "duration": 0.029032,
     "end_time": "2024-05-02T05:21:05.157742",
     "exception": false,
     "start_time": "2024-05-02T05:21:05.128710",
     "status": "completed"
    },
    "tags": []
   },
   "outputs": [],
   "source": [
    "books.loc[books['Year-Of-Publication'] > 2021, 'Year-Of-Publication'] = 2002\n",
    "books.loc[books['Year-Of-Publication'] == 0, 'Year-Of-Publication'] = 2002"
   ]
  },
  {
   "cell_type": "code",
   "execution_count": 14,
   "id": "f4743fb6",
   "metadata": {
    "execution": {
     "iopub.execute_input": "2024-05-02T05:21:05.193498Z",
     "iopub.status.busy": "2024-05-02T05:21:05.192457Z",
     "iopub.status.idle": "2024-05-02T05:21:05.299802Z",
     "shell.execute_reply": "2024-05-02T05:21:05.298617Z"
    },
    "id": "jplGFvIISnEW",
    "papermill": {
     "duration": 0.127819,
     "end_time": "2024-05-02T05:21:05.302249",
     "exception": false,
     "start_time": "2024-05-02T05:21:05.174430",
     "status": "completed"
    },
    "tags": []
   },
   "outputs": [],
   "source": [
    "## Uppercasing all alphabets in ISBN\n",
    "books['ISBN'] = books['ISBN'].str.upper()"
   ]
  },
  {
   "cell_type": "code",
   "execution_count": 15,
   "id": "4c723bc0",
   "metadata": {
    "execution": {
     "iopub.execute_input": "2024-05-02T05:21:05.337457Z",
     "iopub.status.busy": "2024-05-02T05:21:05.336990Z",
     "iopub.status.idle": "2024-05-02T05:21:05.660669Z",
     "shell.execute_reply": "2024-05-02T05:21:05.659544Z"
    },
    "id": "fqd1CGiOo4mx",
    "papermill": {
     "duration": 0.344228,
     "end_time": "2024-05-02T05:21:05.663253",
     "exception": false,
     "start_time": "2024-05-02T05:21:05.319025",
     "status": "completed"
    },
    "tags": []
   },
   "outputs": [],
   "source": [
    "## Drop duplicate rows\n",
    "books.drop_duplicates(keep='last', inplace=True) \n",
    "books.reset_index(drop = True, inplace = True)"
   ]
  },
  {
   "cell_type": "code",
   "execution_count": 16,
   "id": "d3569279",
   "metadata": {
    "execution": {
     "iopub.execute_input": "2024-05-02T05:21:05.698970Z",
     "iopub.status.busy": "2024-05-02T05:21:05.698574Z",
     "iopub.status.idle": "2024-05-02T05:21:05.887235Z",
     "shell.execute_reply": "2024-05-02T05:21:05.886205Z"
    },
    "id": "qEJLCHTzHbOp",
    "outputId": "a83a2e43-432f-4961-f3b6-820972eac04c",
    "papermill": {
     "duration": 0.20945,
     "end_time": "2024-05-02T05:21:05.889808",
     "exception": false,
     "start_time": "2024-05-02T05:21:05.680358",
     "status": "completed"
    },
    "tags": []
   },
   "outputs": [
    {
     "name": "stdout",
     "output_type": "stream",
     "text": [
      "<class 'pandas.core.frame.DataFrame'>\n",
      "RangeIndex: 271066 entries, 0 to 271065\n",
      "Data columns (total 5 columns):\n",
      " #   Column               Non-Null Count   Dtype \n",
      "---  ------               --------------   ----- \n",
      " 0   ISBN                 271066 non-null  object\n",
      " 1   Book-Title           271066 non-null  object\n",
      " 2   Book-Author          271066 non-null  object\n",
      " 3   Year-Of-Publication  271066 non-null  int64 \n",
      " 4   Publisher            271064 non-null  object\n",
      "dtypes: int64(1), object(4)\n",
      "memory usage: 10.3+ MB\n"
     ]
    }
   ],
   "source": [
    "books.info()"
   ]
  },
  {
   "cell_type": "code",
   "execution_count": 17,
   "id": "59b2b574",
   "metadata": {
    "execution": {
     "iopub.execute_input": "2024-05-02T05:21:05.924991Z",
     "iopub.status.busy": "2024-05-02T05:21:05.924208Z",
     "iopub.status.idle": "2024-05-02T05:21:05.936392Z",
     "shell.execute_reply": "2024-05-02T05:21:05.935323Z"
    },
    "id": "F6dXwCPwK6hb",
    "outputId": "4aa13490-0959-4fb6-b012-6ea44a97548d",
    "papermill": {
     "duration": 0.032067,
     "end_time": "2024-05-02T05:21:05.938595",
     "exception": false,
     "start_time": "2024-05-02T05:21:05.906528",
     "status": "completed"
    },
    "tags": []
   },
   "outputs": [
    {
     "data": {
      "text/html": [
       "<div>\n",
       "<style scoped>\n",
       "    .dataframe tbody tr th:only-of-type {\n",
       "        vertical-align: middle;\n",
       "    }\n",
       "\n",
       "    .dataframe tbody tr th {\n",
       "        vertical-align: top;\n",
       "    }\n",
       "\n",
       "    .dataframe thead th {\n",
       "        text-align: right;\n",
       "    }\n",
       "</style>\n",
       "<table border=\"1\" class=\"dataframe\">\n",
       "  <thead>\n",
       "    <tr style=\"text-align: right;\">\n",
       "      <th></th>\n",
       "      <th>ISBN</th>\n",
       "      <th>Book-Title</th>\n",
       "      <th>Book-Author</th>\n",
       "      <th>Year-Of-Publication</th>\n",
       "      <th>Publisher</th>\n",
       "    </tr>\n",
       "  </thead>\n",
       "  <tbody>\n",
       "    <tr>\n",
       "      <th>0</th>\n",
       "      <td>0195153448</td>\n",
       "      <td>Classical Mythology</td>\n",
       "      <td>Mark P. O. Morford</td>\n",
       "      <td>2002</td>\n",
       "      <td>Oxford University Press</td>\n",
       "    </tr>\n",
       "    <tr>\n",
       "      <th>1</th>\n",
       "      <td>0002005018</td>\n",
       "      <td>Clara Callan</td>\n",
       "      <td>Richard Bruce Wright</td>\n",
       "      <td>2001</td>\n",
       "      <td>HarperFlamingo Canada</td>\n",
       "    </tr>\n",
       "    <tr>\n",
       "      <th>2</th>\n",
       "      <td>0060973129</td>\n",
       "      <td>Decision in Normandy</td>\n",
       "      <td>Carlo D'Este</td>\n",
       "      <td>1991</td>\n",
       "      <td>HarperPerennial</td>\n",
       "    </tr>\n",
       "    <tr>\n",
       "      <th>3</th>\n",
       "      <td>0374157065</td>\n",
       "      <td>Flu: The Story of the Great Influenza Pandemic...</td>\n",
       "      <td>Gina Bari Kolata</td>\n",
       "      <td>1999</td>\n",
       "      <td>Farrar Straus Giroux</td>\n",
       "    </tr>\n",
       "    <tr>\n",
       "      <th>4</th>\n",
       "      <td>0393045218</td>\n",
       "      <td>The Mummies of Urumchi</td>\n",
       "      <td>E. J. W. Barber</td>\n",
       "      <td>1999</td>\n",
       "      <td>W. W. Norton &amp; Company</td>\n",
       "    </tr>\n",
       "  </tbody>\n",
       "</table>\n",
       "</div>"
      ],
      "text/plain": [
       "         ISBN                                         Book-Title  \\\n",
       "0  0195153448                                Classical Mythology   \n",
       "1  0002005018                                       Clara Callan   \n",
       "2  0060973129                               Decision in Normandy   \n",
       "3  0374157065  Flu: The Story of the Great Influenza Pandemic...   \n",
       "4  0393045218                             The Mummies of Urumchi   \n",
       "\n",
       "            Book-Author  Year-Of-Publication                Publisher  \n",
       "0    Mark P. O. Morford                 2002  Oxford University Press  \n",
       "1  Richard Bruce Wright                 2001    HarperFlamingo Canada  \n",
       "2          Carlo D'Este                 1991          HarperPerennial  \n",
       "3      Gina Bari Kolata                 1999     Farrar Straus Giroux  \n",
       "4       E. J. W. Barber                 1999   W. W. Norton & Company  "
      ]
     },
     "execution_count": 17,
     "metadata": {},
     "output_type": "execute_result"
    }
   ],
   "source": [
    "books.head()"
   ]
  },
  {
   "cell_type": "markdown",
   "id": "26f22f80",
   "metadata": {
    "id": "Q3RUi91KHbPQ",
    "papermill": {
     "duration": 0.016407,
     "end_time": "2024-05-02T05:21:05.971906",
     "exception": false,
     "start_time": "2024-05-02T05:21:05.955499",
     "status": "completed"
    },
    "tags": []
   },
   "source": [
    "<b>Users Dataset Pre-processing"
   ]
  },
  {
   "cell_type": "code",
   "execution_count": 18,
   "id": "e72633e4",
   "metadata": {
    "execution": {
     "iopub.execute_input": "2024-05-02T05:21:06.007534Z",
     "iopub.status.busy": "2024-05-02T05:21:06.007159Z",
     "iopub.status.idle": "2024-05-02T05:21:06.019458Z",
     "shell.execute_reply": "2024-05-02T05:21:06.018689Z"
    },
    "id": "shXVpl1le_4f",
    "outputId": "ddd49246-2626-43c6-c01e-adf997324c94",
    "papermill": {
     "duration": 0.032499,
     "end_time": "2024-05-02T05:21:06.021244",
     "exception": false,
     "start_time": "2024-05-02T05:21:05.988745",
     "status": "completed"
    },
    "tags": []
   },
   "outputs": [
    {
     "name": "stdout",
     "output_type": "stream",
     "text": [
      "Columns:  ['User-ID', 'Location', 'Age']\n"
     ]
    },
    {
     "data": {
      "text/html": [
       "<div>\n",
       "<style scoped>\n",
       "    .dataframe tbody tr th:only-of-type {\n",
       "        vertical-align: middle;\n",
       "    }\n",
       "\n",
       "    .dataframe tbody tr th {\n",
       "        vertical-align: top;\n",
       "    }\n",
       "\n",
       "    .dataframe thead th {\n",
       "        text-align: right;\n",
       "    }\n",
       "</style>\n",
       "<table border=\"1\" class=\"dataframe\">\n",
       "  <thead>\n",
       "    <tr style=\"text-align: right;\">\n",
       "      <th></th>\n",
       "      <th>User-ID</th>\n",
       "      <th>Location</th>\n",
       "      <th>Age</th>\n",
       "    </tr>\n",
       "  </thead>\n",
       "  <tbody>\n",
       "    <tr>\n",
       "      <th>0</th>\n",
       "      <td>1</td>\n",
       "      <td>nyc, new york, usa</td>\n",
       "      <td>NaN</td>\n",
       "    </tr>\n",
       "    <tr>\n",
       "      <th>1</th>\n",
       "      <td>2</td>\n",
       "      <td>stockton, california, usa</td>\n",
       "      <td>18.0</td>\n",
       "    </tr>\n",
       "    <tr>\n",
       "      <th>2</th>\n",
       "      <td>3</td>\n",
       "      <td>moscow, yukon territory, russia</td>\n",
       "      <td>NaN</td>\n",
       "    </tr>\n",
       "    <tr>\n",
       "      <th>3</th>\n",
       "      <td>4</td>\n",
       "      <td>porto, v.n.gaia, portugal</td>\n",
       "      <td>17.0</td>\n",
       "    </tr>\n",
       "    <tr>\n",
       "      <th>4</th>\n",
       "      <td>5</td>\n",
       "      <td>farnborough, hants, united kingdom</td>\n",
       "      <td>NaN</td>\n",
       "    </tr>\n",
       "  </tbody>\n",
       "</table>\n",
       "</div>"
      ],
      "text/plain": [
       "   User-ID                            Location   Age\n",
       "0        1                  nyc, new york, usa   NaN\n",
       "1        2           stockton, california, usa  18.0\n",
       "2        3     moscow, yukon territory, russia   NaN\n",
       "3        4           porto, v.n.gaia, portugal  17.0\n",
       "4        5  farnborough, hants, united kingdom   NaN"
      ]
     },
     "execution_count": 18,
     "metadata": {},
     "output_type": "execute_result"
    }
   ],
   "source": [
    "print(\"Columns: \", list(users.columns))\n",
    "users.head()"
   ]
  },
  {
   "cell_type": "code",
   "execution_count": 19,
   "id": "813de617",
   "metadata": {
    "execution": {
     "iopub.execute_input": "2024-05-02T05:21:06.057170Z",
     "iopub.status.busy": "2024-05-02T05:21:06.056449Z",
     "iopub.status.idle": "2024-05-02T05:21:06.108412Z",
     "shell.execute_reply": "2024-05-02T05:21:06.107366Z"
    },
    "id": "IgUWcug6HbPR",
    "outputId": "33afab7a-92de-4e36-d755-8225397da763",
    "papermill": {
     "duration": 0.072561,
     "end_time": "2024-05-02T05:21:06.110778",
     "exception": false,
     "start_time": "2024-05-02T05:21:06.038217",
     "status": "completed"
    },
    "tags": []
   },
   "outputs": [
    {
     "name": "stdout",
     "output_type": "stream",
     "text": [
      "User-ID          0\n",
      "Location         0\n",
      "Age         110762\n",
      "dtype: int64\n"
     ]
    }
   ],
   "source": [
    "## Checking null values\n",
    "print(users.isna().sum())               "
   ]
  },
  {
   "cell_type": "code",
   "execution_count": 20,
   "id": "16b9668f",
   "metadata": {
    "execution": {
     "iopub.execute_input": "2024-05-02T05:21:06.147207Z",
     "iopub.status.busy": "2024-05-02T05:21:06.146486Z",
     "iopub.status.idle": "2024-05-02T05:21:06.156880Z",
     "shell.execute_reply": "2024-05-02T05:21:06.155887Z"
    },
    "id": "hZBdnU-idiZv",
    "outputId": "b12343ad-0722-4702-8ef2-83165ce14d2a",
    "papermill": {
     "duration": 0.031418,
     "end_time": "2024-05-02T05:21:06.159405",
     "exception": false,
     "start_time": "2024-05-02T05:21:06.127987",
     "status": "completed"
    },
    "tags": []
   },
   "outputs": [
    {
     "name": "stdout",
     "output_type": "stream",
     "text": [
      "[nan, 0.0, 1.0, 2.0, 3.0, 4.0, 5.0, 6.0, 7.0, 8.0, 9.0, 10.0, 11.0, 12.0, 13.0, 14.0, 15.0, 16.0, 17.0, 18.0, 19.0, 20.0, 21.0, 22.0, 23.0, 24.0, 25.0, 26.0, 27.0, 28.0, 29.0, 30.0, 31.0, 32.0, 33.0, 34.0, 35.0, 36.0, 37.0, 38.0, 39.0, 40.0, 41.0, 42.0, 43.0, 44.0, 45.0, 46.0, 47.0, 48.0, 49.0, 50.0, 51.0, 52.0, 53.0, 54.0, 55.0, 56.0, 57.0, 58.0, 59.0, 60.0, 61.0, 62.0, 63.0, 64.0, 65.0, 66.0, 67.0, 68.0, 69.0, 70.0, 71.0, 72.0, 73.0, 74.0, 75.0, 76.0, 77.0, 78.0, 79.0, 80.0, 81.0, 82.0, 83.0, 84.0, 85.0, 86.0, 87.0, 88.0, 89.0, 90.0, 91.0, 92.0, 93.0, 94.0, 95.0, 96.0, 97.0, 98.0, 99.0, 100.0, 101.0, 102.0, 103.0, 104.0, 105.0, 106.0, 107.0, 108.0, 109.0, 110.0, 111.0, 113.0, 114.0, 115.0, 116.0, 118.0, 119.0, 123.0, 124.0, 127.0, 128.0, 132.0, 133.0, 136.0, 137.0, 138.0, 140.0, 141.0, 143.0, 146.0, 147.0, 148.0, 151.0, 152.0, 156.0, 157.0, 159.0, 162.0, 168.0, 172.0, 175.0, 183.0, 186.0, 189.0, 199.0, 200.0, 201.0, 204.0, 207.0, 208.0, 209.0, 210.0, 212.0, 219.0, 220.0, 223.0, 226.0, 228.0, 229.0, 230.0, 231.0, 237.0, 239.0, 244.0]\n"
     ]
    }
   ],
   "source": [
    "## Check for all values present in Age column\n",
    "print(sorted(list(users['Age'].unique())))"
   ]
  },
  {
   "cell_type": "code",
   "execution_count": 21,
   "id": "3e523ef6",
   "metadata": {
    "execution": {
     "iopub.execute_input": "2024-05-02T05:21:06.197505Z",
     "iopub.status.busy": "2024-05-02T05:21:06.197092Z",
     "iopub.status.idle": "2024-05-02T05:21:06.221614Z",
     "shell.execute_reply": "2024-05-02T05:21:06.220596Z"
    },
    "id": "H3dNYNstdiik",
    "papermill": {
     "duration": 0.046882,
     "end_time": "2024-05-02T05:21:06.224132",
     "exception": false,
     "start_time": "2024-05-02T05:21:06.177250",
     "status": "completed"
    },
    "tags": []
   },
   "outputs": [],
   "source": [
    "required = users[users['Age'] <= 80]\n",
    "required = required[required['Age'] >= 10]"
   ]
  },
  {
   "cell_type": "code",
   "execution_count": 22,
   "id": "4492c1d1",
   "metadata": {
    "execution": {
     "iopub.execute_input": "2024-05-02T05:21:06.260834Z",
     "iopub.status.busy": "2024-05-02T05:21:06.260466Z",
     "iopub.status.idle": "2024-05-02T05:21:06.267532Z",
     "shell.execute_reply": "2024-05-02T05:21:06.266481Z"
    },
    "id": "0KVi6a6bd_Yo",
    "outputId": "7eb43572-b05b-4003-d1aa-1be23858e9ca",
    "papermill": {
     "duration": 0.027629,
     "end_time": "2024-05-02T05:21:06.269509",
     "exception": false,
     "start_time": "2024-05-02T05:21:06.241880",
     "status": "completed"
    },
    "tags": []
   },
   "outputs": [
    {
     "data": {
      "text/plain": [
       "35"
      ]
     },
     "execution_count": 22,
     "metadata": {},
     "output_type": "execute_result"
    }
   ],
   "source": [
    "mean = round(required['Age'].mean())   \n",
    "mean"
   ]
  },
  {
   "cell_type": "code",
   "execution_count": 23,
   "id": "d738ec57",
   "metadata": {
    "execution": {
     "iopub.execute_input": "2024-05-02T05:21:06.306831Z",
     "iopub.status.busy": "2024-05-02T05:21:06.306154Z",
     "iopub.status.idle": "2024-05-02T05:21:06.319814Z",
     "shell.execute_reply": "2024-05-02T05:21:06.318834Z"
    },
    "id": "C1YOTtiNNDYp",
    "papermill": {
     "duration": 0.035091,
     "end_time": "2024-05-02T05:21:06.322037",
     "exception": false,
     "start_time": "2024-05-02T05:21:06.286946",
     "status": "completed"
    },
    "tags": []
   },
   "outputs": [],
   "source": [
    "users.loc[users['Age'] > 80, 'Age'] = mean    #outliers with age grater than 80 are substituted with mean \n",
    "users.loc[users['Age'] < 10, 'Age'] = mean    #outliers with age less than 10 years are substitued with mean\n",
    "users['Age'] = users['Age'].fillna(mean)      #filling null values with mean\n",
    "users['Age'] = users['Age'].astype(int)       #changing Datatype to int"
   ]
  },
  {
   "cell_type": "code",
   "execution_count": 24,
   "id": "efc4fc1c",
   "metadata": {
    "execution": {
     "iopub.execute_input": "2024-05-02T05:21:06.359527Z",
     "iopub.status.busy": "2024-05-02T05:21:06.358842Z",
     "iopub.status.idle": "2024-05-02T05:21:23.782669Z",
     "shell.execute_reply": "2024-05-02T05:21:23.781416Z"
    },
    "id": "2StAXDft_6qg",
    "outputId": "429b3beb-739f-4ca4-f4a0-749b3cd1be1a",
    "papermill": {
     "duration": 17.445512,
     "end_time": "2024-05-02T05:21:23.785432",
     "exception": false,
     "start_time": "2024-05-02T05:21:06.339920",
     "status": "completed"
    },
    "tags": []
   },
   "outputs": [
    {
     "name": "stdout",
     "output_type": "stream",
     "text": [
      "4659\n",
      "16044\n"
     ]
    }
   ],
   "source": [
    "list_ = users.Location.str.split(', ')\n",
    "\n",
    "city = []\n",
    "state = []\n",
    "country = []\n",
    "count_no_state = 0    \n",
    "count_no_country = 0\n",
    "\n",
    "for i in range(0,len(list_)):\n",
    "    if list_[i][0] == ' ' or list_[i][0] == '' or list_[i][0]=='n/a' or list_[i][0] == ',':  #removing invalid entries too\n",
    "        city.append('other')\n",
    "    else:\n",
    "        city.append(list_[i][0].lower())\n",
    "\n",
    "    if(len(list_[i])<2):\n",
    "        state.append('other')\n",
    "        country.append('other')\n",
    "        count_no_state += 1\n",
    "        count_no_country += 1\n",
    "    else:\n",
    "        if list_[i][1] == ' ' or list_[i][1] == '' or list_[i][1]=='n/a' or list_[i][1] == ',':   #removing invalid entries \n",
    "            state.append('other')\n",
    "            count_no_state += 1            \n",
    "        else:\n",
    "            state.append(list_[i][1].lower())\n",
    "        \n",
    "        if(len(list_[i])<3):\n",
    "            country.append('other')\n",
    "            count_no_country += 1\n",
    "        else:\n",
    "            if list_[i][2] == ''or list_[i][1] == ',' or list_[i][2] == ' ' or list_[i][2] == 'n/a':\n",
    "                country.append('other')\n",
    "                count_no_country += 1\n",
    "            else:\n",
    "                country.append(list_[i][2].lower())\n",
    "        \n",
    "users = users.drop('Location',axis=1)\n",
    "\n",
    "temp = []\n",
    "for ent in city:\n",
    "    c = ent.split('/')            #handling cases where city/state entries from city list as state is already given \n",
    "    temp.append(c[0])\n",
    "\n",
    "df_city = pd.DataFrame(temp,columns=['City'])\n",
    "df_state = pd.DataFrame(state,columns=['State'])\n",
    "df_country = pd.DataFrame(country,columns=['Country'])\n",
    "\n",
    "users = pd.concat([users, df_city], axis=1)\n",
    "users = pd.concat([users, df_state], axis=1)\n",
    "users = pd.concat([users, df_country], axis=1)\n",
    "\n",
    "print(count_no_country)   #printing the number of countries didnt have any values \n",
    "print(count_no_state)     #printing the states which didnt have any values"
   ]
  },
  {
   "cell_type": "code",
   "execution_count": 25,
   "id": "9f9cbfff",
   "metadata": {
    "execution": {
     "iopub.execute_input": "2024-05-02T05:21:23.826998Z",
     "iopub.status.busy": "2024-05-02T05:21:23.826632Z",
     "iopub.status.idle": "2024-05-02T05:21:24.067994Z",
     "shell.execute_reply": "2024-05-02T05:21:24.066836Z"
    },
    "id": "NqkVvAytpNUe",
    "papermill": {
     "duration": 0.266771,
     "end_time": "2024-05-02T05:21:24.070757",
     "exception": false,
     "start_time": "2024-05-02T05:21:23.803986",
     "status": "completed"
    },
    "tags": []
   },
   "outputs": [],
   "source": [
    "## Drop duplicate rows\n",
    "users.drop_duplicates(keep='last', inplace=True)\n",
    "users.reset_index(drop=True, inplace=True)"
   ]
  },
  {
   "cell_type": "code",
   "execution_count": 26,
   "id": "4546d6af",
   "metadata": {
    "execution": {
     "iopub.execute_input": "2024-05-02T05:21:24.108537Z",
     "iopub.status.busy": "2024-05-02T05:21:24.107843Z",
     "iopub.status.idle": "2024-05-02T05:21:24.250702Z",
     "shell.execute_reply": "2024-05-02T05:21:24.249452Z"
    },
    "id": "cF_aI6ObPXiE",
    "outputId": "72df13ee-ef47-44ae-f7a6-c3594eb16123",
    "papermill": {
     "duration": 0.164497,
     "end_time": "2024-05-02T05:21:24.252959",
     "exception": false,
     "start_time": "2024-05-02T05:21:24.088462",
     "status": "completed"
    },
    "tags": []
   },
   "outputs": [
    {
     "name": "stdout",
     "output_type": "stream",
     "text": [
      "<class 'pandas.core.frame.DataFrame'>\n",
      "RangeIndex: 278858 entries, 0 to 278857\n",
      "Data columns (total 5 columns):\n",
      " #   Column   Non-Null Count   Dtype \n",
      "---  ------   --------------   ----- \n",
      " 0   User-ID  278858 non-null  int64 \n",
      " 1   Age      278858 non-null  int64 \n",
      " 2   City     278858 non-null  object\n",
      " 3   State    278858 non-null  object\n",
      " 4   Country  278858 non-null  object\n",
      "dtypes: int64(2), object(3)\n",
      "memory usage: 10.6+ MB\n"
     ]
    }
   ],
   "source": [
    "users.info()"
   ]
  },
  {
   "cell_type": "code",
   "execution_count": 27,
   "id": "fa701298",
   "metadata": {
    "execution": {
     "iopub.execute_input": "2024-05-02T05:21:24.290554Z",
     "iopub.status.busy": "2024-05-02T05:21:24.290114Z",
     "iopub.status.idle": "2024-05-02T05:21:24.301487Z",
     "shell.execute_reply": "2024-05-02T05:21:24.300344Z"
    },
    "id": "9G6vM-BYLNFf",
    "outputId": "c93373b0-8213-4962-f8fb-d9444f08b078",
    "papermill": {
     "duration": 0.033244,
     "end_time": "2024-05-02T05:21:24.303818",
     "exception": false,
     "start_time": "2024-05-02T05:21:24.270574",
     "status": "completed"
    },
    "tags": []
   },
   "outputs": [
    {
     "data": {
      "text/html": [
       "<div>\n",
       "<style scoped>\n",
       "    .dataframe tbody tr th:only-of-type {\n",
       "        vertical-align: middle;\n",
       "    }\n",
       "\n",
       "    .dataframe tbody tr th {\n",
       "        vertical-align: top;\n",
       "    }\n",
       "\n",
       "    .dataframe thead th {\n",
       "        text-align: right;\n",
       "    }\n",
       "</style>\n",
       "<table border=\"1\" class=\"dataframe\">\n",
       "  <thead>\n",
       "    <tr style=\"text-align: right;\">\n",
       "      <th></th>\n",
       "      <th>User-ID</th>\n",
       "      <th>Age</th>\n",
       "      <th>City</th>\n",
       "      <th>State</th>\n",
       "      <th>Country</th>\n",
       "    </tr>\n",
       "  </thead>\n",
       "  <tbody>\n",
       "    <tr>\n",
       "      <th>0</th>\n",
       "      <td>1</td>\n",
       "      <td>35</td>\n",
       "      <td>nyc</td>\n",
       "      <td>new york</td>\n",
       "      <td>usa</td>\n",
       "    </tr>\n",
       "    <tr>\n",
       "      <th>1</th>\n",
       "      <td>2</td>\n",
       "      <td>18</td>\n",
       "      <td>stockton</td>\n",
       "      <td>california</td>\n",
       "      <td>usa</td>\n",
       "    </tr>\n",
       "    <tr>\n",
       "      <th>2</th>\n",
       "      <td>3</td>\n",
       "      <td>35</td>\n",
       "      <td>moscow</td>\n",
       "      <td>yukon territory</td>\n",
       "      <td>russia</td>\n",
       "    </tr>\n",
       "    <tr>\n",
       "      <th>3</th>\n",
       "      <td>4</td>\n",
       "      <td>17</td>\n",
       "      <td>porto</td>\n",
       "      <td>v.n.gaia</td>\n",
       "      <td>portugal</td>\n",
       "    </tr>\n",
       "    <tr>\n",
       "      <th>4</th>\n",
       "      <td>5</td>\n",
       "      <td>35</td>\n",
       "      <td>farnborough</td>\n",
       "      <td>hants</td>\n",
       "      <td>united kingdom</td>\n",
       "    </tr>\n",
       "  </tbody>\n",
       "</table>\n",
       "</div>"
      ],
      "text/plain": [
       "   User-ID  Age         City            State         Country\n",
       "0        1   35          nyc         new york             usa\n",
       "1        2   18     stockton       california             usa\n",
       "2        3   35       moscow  yukon territory          russia\n",
       "3        4   17        porto         v.n.gaia        portugal\n",
       "4        5   35  farnborough            hants  united kingdom"
      ]
     },
     "execution_count": 27,
     "metadata": {},
     "output_type": "execute_result"
    }
   ],
   "source": [
    "users.head()"
   ]
  },
  {
   "cell_type": "markdown",
   "id": "de9916b7",
   "metadata": {
    "id": "T2ALKysTHbPb",
    "papermill": {
     "duration": 0.017677,
     "end_time": "2024-05-02T05:21:24.339385",
     "exception": false,
     "start_time": "2024-05-02T05:21:24.321708",
     "status": "completed"
    },
    "tags": []
   },
   "source": [
    "<b>Books-Ratings Dataset Pre-processing"
   ]
  },
  {
   "cell_type": "code",
   "execution_count": 28,
   "id": "fbf1e0f2",
   "metadata": {
    "execution": {
     "iopub.execute_input": "2024-05-02T05:21:24.377839Z",
     "iopub.status.busy": "2024-05-02T05:21:24.377476Z",
     "iopub.status.idle": "2024-05-02T05:21:24.388750Z",
     "shell.execute_reply": "2024-05-02T05:21:24.387584Z"
    },
    "id": "rFGWikWJgYaC",
    "outputId": "41431b40-2940-4a3b-f728-8f475e66d179",
    "papermill": {
     "duration": 0.032766,
     "end_time": "2024-05-02T05:21:24.391046",
     "exception": false,
     "start_time": "2024-05-02T05:21:24.358280",
     "status": "completed"
    },
    "tags": []
   },
   "outputs": [
    {
     "name": "stdout",
     "output_type": "stream",
     "text": [
      "Columns:  ['User-ID', 'ISBN', 'Book-Rating']\n"
     ]
    },
    {
     "data": {
      "text/html": [
       "<div>\n",
       "<style scoped>\n",
       "    .dataframe tbody tr th:only-of-type {\n",
       "        vertical-align: middle;\n",
       "    }\n",
       "\n",
       "    .dataframe tbody tr th {\n",
       "        vertical-align: top;\n",
       "    }\n",
       "\n",
       "    .dataframe thead th {\n",
       "        text-align: right;\n",
       "    }\n",
       "</style>\n",
       "<table border=\"1\" class=\"dataframe\">\n",
       "  <thead>\n",
       "    <tr style=\"text-align: right;\">\n",
       "      <th></th>\n",
       "      <th>User-ID</th>\n",
       "      <th>ISBN</th>\n",
       "      <th>Book-Rating</th>\n",
       "    </tr>\n",
       "  </thead>\n",
       "  <tbody>\n",
       "    <tr>\n",
       "      <th>0</th>\n",
       "      <td>276725</td>\n",
       "      <td>034545104X</td>\n",
       "      <td>0</td>\n",
       "    </tr>\n",
       "    <tr>\n",
       "      <th>1</th>\n",
       "      <td>276726</td>\n",
       "      <td>0155061224</td>\n",
       "      <td>5</td>\n",
       "    </tr>\n",
       "    <tr>\n",
       "      <th>2</th>\n",
       "      <td>276727</td>\n",
       "      <td>0446520802</td>\n",
       "      <td>0</td>\n",
       "    </tr>\n",
       "    <tr>\n",
       "      <th>3</th>\n",
       "      <td>276729</td>\n",
       "      <td>052165615X</td>\n",
       "      <td>3</td>\n",
       "    </tr>\n",
       "    <tr>\n",
       "      <th>4</th>\n",
       "      <td>276729</td>\n",
       "      <td>0521795028</td>\n",
       "      <td>6</td>\n",
       "    </tr>\n",
       "  </tbody>\n",
       "</table>\n",
       "</div>"
      ],
      "text/plain": [
       "   User-ID        ISBN  Book-Rating\n",
       "0   276725  034545104X            0\n",
       "1   276726  0155061224            5\n",
       "2   276727  0446520802            0\n",
       "3   276729  052165615X            3\n",
       "4   276729  0521795028            6"
      ]
     },
     "execution_count": 28,
     "metadata": {},
     "output_type": "execute_result"
    }
   ],
   "source": [
    "print(\"Columns: \", list(ratings.columns))\n",
    "ratings.head()"
   ]
  },
  {
   "cell_type": "code",
   "execution_count": 29,
   "id": "556a2107",
   "metadata": {
    "execution": {
     "iopub.execute_input": "2024-05-02T05:21:24.429585Z",
     "iopub.status.busy": "2024-05-02T05:21:24.429156Z",
     "iopub.status.idle": "2024-05-02T05:21:24.632753Z",
     "shell.execute_reply": "2024-05-02T05:21:24.631684Z"
    },
    "id": "CiA4xbv0HbPc",
    "outputId": "c09d339d-e697-4f9f-ade8-975fa5edd787",
    "papermill": {
     "duration": 0.225364,
     "end_time": "2024-05-02T05:21:24.635082",
     "exception": false,
     "start_time": "2024-05-02T05:21:24.409718",
     "status": "completed"
    },
    "tags": []
   },
   "outputs": [
    {
     "data": {
      "text/plain": [
       "User-ID        0\n",
       "ISBN           0\n",
       "Book-Rating    0\n",
       "dtype: int64"
      ]
     },
     "execution_count": 29,
     "metadata": {},
     "output_type": "execute_result"
    }
   ],
   "source": [
    "## Checking for null values\n",
    "ratings.isnull().sum() "
   ]
  },
  {
   "cell_type": "code",
   "execution_count": 30,
   "id": "70072042",
   "metadata": {
    "execution": {
     "iopub.execute_input": "2024-05-02T05:21:24.673590Z",
     "iopub.status.busy": "2024-05-02T05:21:24.672968Z",
     "iopub.status.idle": "2024-05-02T05:21:24.678650Z",
     "shell.execute_reply": "2024-05-02T05:21:24.677667Z"
    },
    "id": "nb-2TTxhKTuO",
    "outputId": "59c920a2-ed79-4be6-e3b1-90ea046d090a",
    "papermill": {
     "duration": 0.027245,
     "end_time": "2024-05-02T05:21:24.680628",
     "exception": false,
     "start_time": "2024-05-02T05:21:24.653383",
     "status": "completed"
    },
    "tags": []
   },
   "outputs": [
    {
     "name": "stdout",
     "output_type": "stream",
     "text": [
      "True\n"
     ]
    }
   ],
   "source": [
    "## checking all ratings number or not\n",
    "print(is_numeric_dtype(ratings['Book-Rating']))"
   ]
  },
  {
   "cell_type": "code",
   "execution_count": 31,
   "id": "f91bc29c",
   "metadata": {
    "execution": {
     "iopub.execute_input": "2024-05-02T05:21:24.719056Z",
     "iopub.status.busy": "2024-05-02T05:21:24.718454Z",
     "iopub.status.idle": "2024-05-02T05:21:26.010704Z",
     "shell.execute_reply": "2024-05-02T05:21:26.009523Z"
    },
    "id": "j_QhbeNCKT30",
    "outputId": "f832463f-7c36-487f-ac87-bf34dd7a15b4",
    "papermill": {
     "duration": 1.314634,
     "end_time": "2024-05-02T05:21:26.013555",
     "exception": false,
     "start_time": "2024-05-02T05:21:24.698921",
     "status": "completed"
    },
    "tags": []
   },
   "outputs": [
    {
     "name": "stdout",
     "output_type": "stream",
     "text": [
      "False\n"
     ]
    }
   ],
   "source": [
    "## checking ISBN\n",
    "flag = 0\n",
    "k =[]\n",
    "reg = \"[^A-Za-z0-9]\"\n",
    "\n",
    "for x in ratings['ISBN']:\n",
    "    z = re.search(reg,x)    \n",
    "    if z:\n",
    "        flag = 1\n",
    "\n",
    "if flag == 1:\n",
    "    print(\"False\")\n",
    "else:\n",
    "    print(\"True\")"
   ]
  },
  {
   "cell_type": "code",
   "execution_count": 32,
   "id": "2ce6d3c6",
   "metadata": {
    "execution": {
     "iopub.execute_input": "2024-05-02T05:21:26.053950Z",
     "iopub.status.busy": "2024-05-02T05:21:26.053570Z",
     "iopub.status.idle": "2024-05-02T05:22:30.540808Z",
     "shell.execute_reply": "2024-05-02T05:22:30.539573Z"
    },
    "id": "PoUNkGMqKUJs",
    "papermill": {
     "duration": 64.510612,
     "end_time": "2024-05-02T05:22:30.543634",
     "exception": false,
     "start_time": "2024-05-02T05:21:26.033022",
     "status": "completed"
    },
    "tags": []
   },
   "outputs": [],
   "source": [
    "## removing extra characters from ISBN (from ratings dataset) existing in books dataset\n",
    "bookISBN = books['ISBN'].tolist() \n",
    "reg = \"[^A-Za-z0-9]\" \n",
    "for index, row_Value in ratings.iterrows():\n",
    "    z = re.search(reg, row_Value['ISBN'])    \n",
    "    if z:\n",
    "        f = re.sub(reg,\"\",row_Value['ISBN'])\n",
    "        if f in bookISBN:\n",
    "            ratings.at[index , 'ISBN'] = f"
   ]
  },
  {
   "cell_type": "code",
   "execution_count": 33,
   "id": "48c7fc43",
   "metadata": {
    "execution": {
     "iopub.execute_input": "2024-05-02T05:22:30.583078Z",
     "iopub.status.busy": "2024-05-02T05:22:30.582704Z",
     "iopub.status.idle": "2024-05-02T05:22:31.114790Z",
     "shell.execute_reply": "2024-05-02T05:22:31.113669Z"
    },
    "id": "EmODrJZISSNr",
    "papermill": {
     "duration": 0.55485,
     "end_time": "2024-05-02T05:22:31.117485",
     "exception": false,
     "start_time": "2024-05-02T05:22:30.562635",
     "status": "completed"
    },
    "tags": []
   },
   "outputs": [],
   "source": [
    "## Uppercasing all alphabets in ISBN\n",
    "ratings['ISBN'] = ratings['ISBN'].str.upper()"
   ]
  },
  {
   "cell_type": "code",
   "execution_count": 34,
   "id": "94559ba5",
   "metadata": {
    "execution": {
     "iopub.execute_input": "2024-05-02T05:22:31.156284Z",
     "iopub.status.busy": "2024-05-02T05:22:31.155913Z",
     "iopub.status.idle": "2024-05-02T05:22:31.587912Z",
     "shell.execute_reply": "2024-05-02T05:22:31.586702Z"
    },
    "id": "vv7sSuxmpTIi",
    "papermill": {
     "duration": 0.45423,
     "end_time": "2024-05-02T05:22:31.590486",
     "exception": false,
     "start_time": "2024-05-02T05:22:31.136256",
     "status": "completed"
    },
    "tags": []
   },
   "outputs": [],
   "source": [
    "## Drop duplicate rows\n",
    "ratings.drop_duplicates(keep='last', inplace=True)\n",
    "ratings.reset_index(drop=True, inplace=True)"
   ]
  },
  {
   "cell_type": "code",
   "execution_count": 35,
   "id": "278ecc9c",
   "metadata": {
    "execution": {
     "iopub.execute_input": "2024-05-02T05:22:31.631025Z",
     "iopub.status.busy": "2024-05-02T05:22:31.630599Z",
     "iopub.status.idle": "2024-05-02T05:22:31.807852Z",
     "shell.execute_reply": "2024-05-02T05:22:31.806728Z"
    },
    "id": "3OxDoF9iPhLA",
    "outputId": "4abf566e-4fd2-4ef0-9339-56512ec65581",
    "papermill": {
     "duration": 0.200635,
     "end_time": "2024-05-02T05:22:31.810230",
     "exception": false,
     "start_time": "2024-05-02T05:22:31.609595",
     "status": "completed"
    },
    "tags": []
   },
   "outputs": [
    {
     "name": "stdout",
     "output_type": "stream",
     "text": [
      "<class 'pandas.core.frame.DataFrame'>\n",
      "RangeIndex: 1149776 entries, 0 to 1149775\n",
      "Data columns (total 3 columns):\n",
      " #   Column       Non-Null Count    Dtype \n",
      "---  ------       --------------    ----- \n",
      " 0   User-ID      1149776 non-null  int64 \n",
      " 1   ISBN         1149776 non-null  object\n",
      " 2   Book-Rating  1149776 non-null  int64 \n",
      "dtypes: int64(2), object(1)\n",
      "memory usage: 26.3+ MB\n"
     ]
    }
   ],
   "source": [
    "ratings.info()"
   ]
  },
  {
   "cell_type": "code",
   "execution_count": 36,
   "id": "e85380be",
   "metadata": {
    "execution": {
     "iopub.execute_input": "2024-05-02T05:22:31.849034Z",
     "iopub.status.busy": "2024-05-02T05:22:31.848607Z",
     "iopub.status.idle": "2024-05-02T05:22:31.859236Z",
     "shell.execute_reply": "2024-05-02T05:22:31.857977Z"
    },
    "id": "SqQR1C4KLmCn",
    "outputId": "b178e614-9a11-4dc1-f06a-6de285297008",
    "papermill": {
     "duration": 0.032887,
     "end_time": "2024-05-02T05:22:31.861591",
     "exception": false,
     "start_time": "2024-05-02T05:22:31.828704",
     "status": "completed"
    },
    "tags": []
   },
   "outputs": [
    {
     "data": {
      "text/html": [
       "<div>\n",
       "<style scoped>\n",
       "    .dataframe tbody tr th:only-of-type {\n",
       "        vertical-align: middle;\n",
       "    }\n",
       "\n",
       "    .dataframe tbody tr th {\n",
       "        vertical-align: top;\n",
       "    }\n",
       "\n",
       "    .dataframe thead th {\n",
       "        text-align: right;\n",
       "    }\n",
       "</style>\n",
       "<table border=\"1\" class=\"dataframe\">\n",
       "  <thead>\n",
       "    <tr style=\"text-align: right;\">\n",
       "      <th></th>\n",
       "      <th>User-ID</th>\n",
       "      <th>ISBN</th>\n",
       "      <th>Book-Rating</th>\n",
       "    </tr>\n",
       "  </thead>\n",
       "  <tbody>\n",
       "    <tr>\n",
       "      <th>0</th>\n",
       "      <td>276725</td>\n",
       "      <td>034545104X</td>\n",
       "      <td>0</td>\n",
       "    </tr>\n",
       "    <tr>\n",
       "      <th>1</th>\n",
       "      <td>276726</td>\n",
       "      <td>0155061224</td>\n",
       "      <td>5</td>\n",
       "    </tr>\n",
       "    <tr>\n",
       "      <th>2</th>\n",
       "      <td>276727</td>\n",
       "      <td>0446520802</td>\n",
       "      <td>0</td>\n",
       "    </tr>\n",
       "    <tr>\n",
       "      <th>3</th>\n",
       "      <td>276729</td>\n",
       "      <td>052165615X</td>\n",
       "      <td>3</td>\n",
       "    </tr>\n",
       "    <tr>\n",
       "      <th>4</th>\n",
       "      <td>276729</td>\n",
       "      <td>0521795028</td>\n",
       "      <td>6</td>\n",
       "    </tr>\n",
       "  </tbody>\n",
       "</table>\n",
       "</div>"
      ],
      "text/plain": [
       "   User-ID        ISBN  Book-Rating\n",
       "0   276725  034545104X            0\n",
       "1   276726  0155061224            5\n",
       "2   276727  0446520802            0\n",
       "3   276729  052165615X            3\n",
       "4   276729  0521795028            6"
      ]
     },
     "execution_count": 36,
     "metadata": {},
     "output_type": "execute_result"
    }
   ],
   "source": [
    "ratings.head()"
   ]
  },
  {
   "cell_type": "markdown",
   "id": "6490ab92",
   "metadata": {
    "id": "H08g63ssPM8P",
    "papermill": {
     "duration": 0.018578,
     "end_time": "2024-05-02T05:22:31.899697",
     "exception": false,
     "start_time": "2024-05-02T05:22:31.881119",
     "status": "completed"
    },
    "tags": []
   },
   "source": [
    "<h3><b>Merging of all three Tables"
   ]
  },
  {
   "cell_type": "markdown",
   "id": "bf398e00",
   "metadata": {
    "id": "OsBYOC9WWfkh",
    "papermill": {
     "duration": 0.018373,
     "end_time": "2024-05-02T05:22:31.936923",
     "exception": false,
     "start_time": "2024-05-02T05:22:31.918550",
     "status": "completed"
    },
    "tags": []
   },
   "source": [
    "<b>Merging Books, Users and Rating Tables in One"
   ]
  },
  {
   "cell_type": "code",
   "execution_count": 37,
   "id": "01b4f734",
   "metadata": {
    "execution": {
     "iopub.execute_input": "2024-05-02T05:22:31.976060Z",
     "iopub.status.busy": "2024-05-02T05:22:31.975686Z",
     "iopub.status.idle": "2024-05-02T05:22:34.879732Z",
     "shell.execute_reply": "2024-05-02T05:22:34.878211Z"
    },
    "id": "Qe35QgDxWetG",
    "outputId": "ee8ff3e9-1401-43bc-d56f-1068762b2e2e",
    "papermill": {
     "duration": 2.926598,
     "end_time": "2024-05-02T05:22:34.882150",
     "exception": false,
     "start_time": "2024-05-02T05:22:31.955552",
     "status": "completed"
    },
    "tags": []
   },
   "outputs": [
    {
     "name": "stdout",
     "output_type": "stream",
     "text": [
      "<class 'pandas.core.frame.DataFrame'>\n",
      "Int64Index: 1031648 entries, 0 to 1031647\n",
      "Data columns (total 11 columns):\n",
      " #   Column               Non-Null Count    Dtype \n",
      "---  ------               --------------    ----- \n",
      " 0   ISBN                 1031648 non-null  object\n",
      " 1   Book-Title           1031648 non-null  object\n",
      " 2   Book-Author          1031648 non-null  object\n",
      " 3   Year-Of-Publication  1031648 non-null  int64 \n",
      " 4   Publisher            1031646 non-null  object\n",
      " 5   User-ID              1031648 non-null  int64 \n",
      " 6   Book-Rating          1031648 non-null  int64 \n",
      " 7   Age                  1031648 non-null  int64 \n",
      " 8   City                 1031648 non-null  object\n",
      " 9   State                1031648 non-null  object\n",
      " 10  Country              1031648 non-null  object\n",
      "dtypes: int64(4), object(7)\n",
      "memory usage: 94.5+ MB\n"
     ]
    }
   ],
   "source": [
    "dataset = pd.merge(books, ratings, on='ISBN', how='inner')\n",
    "dataset = pd.merge(dataset, users, on='User-ID', how='inner')\n",
    "dataset.info()"
   ]
  },
  {
   "cell_type": "code",
   "execution_count": 38,
   "id": "fcfe512c",
   "metadata": {
    "execution": {
     "iopub.execute_input": "2024-05-02T05:22:34.921119Z",
     "iopub.status.busy": "2024-05-02T05:22:34.920722Z",
     "iopub.status.idle": "2024-05-02T05:22:35.737719Z",
     "shell.execute_reply": "2024-05-02T05:22:35.736692Z"
    },
    "id": "s8nZ7OutWT3Z",
    "outputId": "7a3591fa-8363-4273-ec0b-36193dbbd5b9",
    "papermill": {
     "duration": 0.839728,
     "end_time": "2024-05-02T05:22:35.740530",
     "exception": false,
     "start_time": "2024-05-02T05:22:34.900802",
     "status": "completed"
    },
    "tags": []
   },
   "outputs": [],
   "source": [
    "\n",
    "dataset1 = dataset[dataset['Book-Rating'] != 0]\n",
    "dataset1 = dataset1.reset_index(drop = True)\n",
    "                                \n",
    "dataset2 = dataset[dataset['Book-Rating'] == 0]\n",
    "dataset2 = dataset2.reset_index(drop = True)"
   ]
  },
  {
   "cell_type": "markdown",
   "id": "d977df1a",
   "metadata": {
    "id": "aK8_JanrPRDP",
    "papermill": {
     "duration": 0.018379,
     "end_time": "2024-05-02T05:22:35.778526",
     "exception": false,
     "start_time": "2024-05-02T05:22:35.760147",
     "status": "completed"
    },
    "tags": []
   },
   "source": [
    "<h3><b>Data Visualization"
   ]
  },
  {
   "cell_type": "code",
   "execution_count": 39,
   "id": "58f15008",
   "metadata": {
    "execution": {
     "iopub.execute_input": "2024-05-02T05:22:35.817900Z",
     "iopub.status.busy": "2024-05-02T05:22:35.817246Z",
     "iopub.status.idle": "2024-05-02T05:22:37.342915Z",
     "shell.execute_reply": "2024-05-02T05:22:37.341731Z"
    },
    "id": "zk0F49gC3Abg",
    "outputId": "79ae424c-4a7b-4588-a4e0-bc701b98ea6b",
    "papermill": {
     "duration": 1.548282,
     "end_time": "2024-05-02T05:22:37.345427",
     "exception": false,
     "start_time": "2024-05-02T05:22:35.797145",
     "status": "completed"
    },
    "tags": []
   },
   "outputs": [
    {
     "data": {
      "image/png": "[encoded data removed]",
      "text/plain": [
       "<Figure size 5500x1500 with 1 Axes>"
      ]
     },
     "metadata": {},
     "output_type": "display_data"
    }
   ],
   "source": [
    "publications = {}\n",
    "for year in books['Year-Of-Publication']:\n",
    "    if str(year) not in publications:\n",
    "        publications[str(year)] = 0\n",
    "    publications[str(year)] +=1\n",
    "\n",
    "publications = {k:v for k, v in sorted(publications.items())}\n",
    "\n",
    "fig = plt.figure(figsize =(55, 15))\n",
    "plt.bar(list(publications.keys()),list(publications.values()), color = 'blue')\n",
    "plt.ylabel(\"Number of books published\")\n",
    "plt.xlabel(\"Year of Publication\")\n",
    "plt.title(\"Number of books published yearly\")\n",
    "plt.margins(x = 0)\n",
    "plt.show()"
   ]
  },
  {
   "cell_type": "code",
   "execution_count": 40,
   "id": "76b801bc",
   "metadata": {
    "execution": {
     "iopub.execute_input": "2024-05-02T05:22:37.386420Z",
     "iopub.status.busy": "2024-05-02T05:22:37.386027Z",
     "iopub.status.idle": "2024-05-02T05:22:38.382969Z",
     "shell.execute_reply": "2024-05-02T05:22:38.381839Z"
    },
    "id": "DSug3Bcqk4dE",
    "outputId": "d1f6db5c-e041-4aeb-fa2a-efb9671a79b3",
    "papermill": {
     "duration": 1.020676,
     "end_time": "2024-05-02T05:22:38.385663",
     "exception": false,
     "start_time": "2024-05-02T05:22:37.364987",
     "status": "completed"
    },
    "tags": []
   },
   "outputs": [
    {
     "data": {
      "text/plain": [
       "Text(0.5, 1.0, 'No of books by an author (Top 15)')"
      ]
     },
     "execution_count": 40,
     "metadata": {},
     "output_type": "execute_result"
    },
    {
     "data": {
      "image/png": "[encoded data removed]",
      "text/plain": [
       "<Figure size 1500x600 with 1 Axes>"
      ]
     },
     "metadata": {},
     "output_type": "display_data"
    }
   ],
   "source": [
    "plt.figure(figsize=(15,6))\n",
    "sns.countplot(y=\"Book-Author\", data=books,order=books['Book-Author'].value_counts().index[0:15])\n",
    "plt.title(\"No of books by an author (Top 15)\")"
   ]
  },
  {
   "cell_type": "code",
   "execution_count": 41,
   "id": "be8a2167",
   "metadata": {
    "execution": {
     "iopub.execute_input": "2024-05-02T05:22:38.429319Z",
     "iopub.status.busy": "2024-05-02T05:22:38.428940Z",
     "iopub.status.idle": "2024-05-02T05:22:39.058801Z",
     "shell.execute_reply": "2024-05-02T05:22:39.057565Z"
    },
    "id": "DbWoYudmk4aQ",
    "outputId": "bfd37b82-72b2-4179-b273-1e8ad6420634",
    "papermill": {
     "duration": 0.655077,
     "end_time": "2024-05-02T05:22:39.061374",
     "exception": false,
     "start_time": "2024-05-02T05:22:38.406297",
     "status": "completed"
    },
    "tags": []
   },
   "outputs": [
    {
     "data": {
      "text/plain": [
       "Text(0.5, 1.0, 'No of books published by a publisher (Top 15)')"
      ]
     },
     "execution_count": 41,
     "metadata": {},
     "output_type": "execute_result"
    },
    {
     "data": {
      "image/png": "[encoded data removed]",
      "text/plain": [
       "<Figure size 1500x600 with 1 Axes>"
      ]
     },
     "metadata": {},
     "output_type": "display_data"
    }
   ],
   "source": [
    "plt.figure(figsize=(15,6))\n",
    "sns.countplot(y=\"Publisher\", data=books,order=books['Publisher'].value_counts().index[0:15])\n",
    "plt.title(\"No of books published by a publisher (Top 15)\")"
   ]
  },
  {
   "cell_type": "code",
   "execution_count": 42,
   "id": "b80ec0b9",
   "metadata": {
    "execution": {
     "iopub.execute_input": "2024-05-02T05:22:39.106944Z",
     "iopub.status.busy": "2024-05-02T05:22:39.106516Z",
     "iopub.status.idle": "2024-05-02T05:22:39.519841Z",
     "shell.execute_reply": "2024-05-02T05:22:39.518746Z"
    },
    "id": "S_3811rdVmdC",
    "outputId": "51c1d1c8-345c-4210-bf52-841061f93379",
    "papermill": {
     "duration": 0.438973,
     "end_time": "2024-05-02T05:22:39.522204",
     "exception": false,
     "start_time": "2024-05-02T05:22:39.083231",
     "status": "completed"
    },
    "tags": []
   },
   "outputs": [
    {
     "data": {
      "text/plain": [
       "<Axes: xlabel='Book-Rating', ylabel='count'>"
      ]
     },
     "execution_count": 42,
     "metadata": {},
     "output_type": "execute_result"
    },
    {
     "data": {
      "image/png": "[encoded data removed]",
      "text/plain": [
       "<Figure size 800x600 with 1 Axes>"
      ]
     },
     "metadata": {},
     "output_type": "display_data"
    }
   ],
   "source": [
    "plt.figure(figsize=(8,6))\n",
    "sns.countplot(x=\"Book-Rating\", data=ratings)"
   ]
  },
  {
   "cell_type": "code",
   "execution_count": 43,
   "id": "5b17ef9c",
   "metadata": {
    "execution": {
     "iopub.execute_input": "2024-05-02T05:22:39.568625Z",
     "iopub.status.busy": "2024-05-02T05:22:39.567726Z",
     "iopub.status.idle": "2024-05-02T05:22:39.944007Z",
     "shell.execute_reply": "2024-05-02T05:22:39.942580Z"
    },
    "id": "VIhugq8mU9ti",
    "outputId": "6de3b3e7-fbb8-4e8f-bcc4-32283da73381",
    "papermill": {
     "duration": 0.402364,
     "end_time": "2024-05-02T05:22:39.946813",
     "exception": false,
     "start_time": "2024-05-02T05:22:39.544449",
     "status": "completed"
    },
    "tags": []
   },
   "outputs": [
    {
     "data": {
      "image/png": "[encoded data removed]",
      "text/plain": [
       "<Figure size 800x600 with 1 Axes>"
      ]
     },
     "metadata": {},
     "output_type": "display_data"
    }
   ],
   "source": [
    "plt.figure(figsize=(8,6))\n",
    "users.Age.hist(bins=[10*i for i in range(1, 10)])     \n",
    "plt.title('Age Distribution')\n",
    "plt.xlabel('Age')\n",
    "plt.ylabel('Count')\n",
    "plt.show()"
   ]
  },
  {
   "cell_type": "code",
   "execution_count": 44,
   "id": "5043ecbe",
   "metadata": {
    "execution": {
     "iopub.execute_input": "2024-05-02T05:22:39.994703Z",
     "iopub.status.busy": "2024-05-02T05:22:39.994283Z",
     "iopub.status.idle": "2024-05-02T05:22:40.666324Z",
     "shell.execute_reply": "2024-05-02T05:22:40.665377Z"
    },
    "id": "PZWkwtTgiIc7",
    "outputId": "d3604016-7585-4423-d382-c2121e059d04",
    "papermill": {
     "duration": 0.698608,
     "end_time": "2024-05-02T05:22:40.668667",
     "exception": false,
     "start_time": "2024-05-02T05:22:39.970059",
     "status": "completed"
    },
    "tags": []
   },
   "outputs": [
    {
     "data": {
      "text/plain": [
       "Text(0.5, 1.0, 'No of readers from each state (Top 15)')"
      ]
     },
     "execution_count": 44,
     "metadata": {},
     "output_type": "execute_result"
    },
    {
     "data": {
      "image/png": "[encoded data removed]",
      "text/plain": [
       "<Figure size 2000x600 with 1 Axes>"
      ]
     },
     "metadata": {},
     "output_type": "display_data"
    }
   ],
   "source": [
    "plt.figure(figsize=(20,6))\n",
    "sns.countplot(x=\"State\", data=users,order=users['State'].value_counts().index[0:15])\n",
    "plt.title(\"No of readers from each state (Top 15)\")"
   ]
  },
  {
   "cell_type": "code",
   "execution_count": 45,
   "id": "291a9fad",
   "metadata": {
    "execution": {
     "iopub.execute_input": "2024-05-02T05:22:40.718377Z",
     "iopub.status.busy": "2024-05-02T05:22:40.717975Z",
     "iopub.status.idle": "2024-05-02T05:22:41.304895Z",
     "shell.execute_reply": "2024-05-02T05:22:41.303718Z"
    },
    "id": "IwumrrqziIWw",
    "outputId": "e19fe099-2dc7-46db-a8aa-e08408c7ead1",
    "papermill": {
     "duration": 0.614532,
     "end_time": "2024-05-02T05:22:41.307153",
     "exception": false,
     "start_time": "2024-05-02T05:22:40.692621",
     "status": "completed"
    },
    "tags": []
   },
   "outputs": [
    {
     "data": {
      "text/plain": [
       "Text(0.5, 1.0, 'No of readers from each country (Top 10)')"
      ]
     },
     "execution_count": 45,
     "metadata": {},
     "output_type": "execute_result"
    },
    {
     "data": {
      "image/png": "[encoded data removed]",
      "text/plain": [
       "<Figure size 1500x800 with 1 Axes>"
      ]
     },
     "metadata": {},
     "output_type": "display_data"
    }
   ],
   "source": [
    "plt.figure(figsize=(15,8))\n",
    "sns.countplot(y=\"Country\", data=users, order=users['Country'].value_counts().index[0:10])\n",
    "plt.title(\"No of readers from each country (Top 10)\")"
   ]
  },
  {
   "cell_type": "code",
   "execution_count": 46,
   "id": "9a0226e3",
   "metadata": {
    "execution": {
     "iopub.execute_input": "2024-05-02T05:22:41.356440Z",
     "iopub.status.busy": "2024-05-02T05:22:41.356013Z",
     "iopub.status.idle": "2024-05-02T05:22:43.978445Z",
     "shell.execute_reply": "2024-05-02T05:22:43.977641Z"
    },
    "id": "zsktJpPyfWZs",
    "outputId": "c0eb745f-2621-4480-9454-85ee4845b230",
    "papermill": {
     "duration": 2.649832,
     "end_time": "2024-05-02T05:22:43.980782",
     "exception": false,
     "start_time": "2024-05-02T05:22:41.330950",
     "status": "completed"
    },
    "tags": []
   },
   "outputs": [
    {
     "data": {
      "text/plain": [
       "Text(0.5, 1.0, 'Number of Ratings for a book (Top 15)')"
      ]
     },
     "execution_count": 46,
     "metadata": {},
     "output_type": "execute_result"
    },
    {
     "data": {
      "image/png": "[encoded data removed]",
      "text/plain": [
       "<Figure size 1500x800 with 1 Axes>"
      ]
     },
     "metadata": {},
     "output_type": "display_data"
    }
   ],
   "source": [
    "plt.figure(figsize=(15,8))\n",
    "sns.countplot(y=\"Book-Title\", data=dataset, order=dataset['Book-Title'].value_counts().index[0:15])\n",
    "plt.title(\"Number of Ratings for a book (Top 15)\")"
   ]
  },
  {
   "cell_type": "code",
   "execution_count": 47,
   "id": "58430427",
   "metadata": {
    "execution": {
     "iopub.execute_input": "2024-05-02T05:22:44.032277Z",
     "iopub.status.busy": "2024-05-02T05:22:44.031192Z",
     "iopub.status.idle": "2024-05-02T05:22:44.037470Z",
     "shell.execute_reply": "2024-05-02T05:22:44.036347Z"
    },
    "papermill": {
     "duration": 0.034599,
     "end_time": "2024-05-02T05:22:44.039944",
     "exception": false,
     "start_time": "2024-05-02T05:22:44.005345",
     "status": "completed"
    },
    "tags": []
   },
   "outputs": [],
   "source": [
    "def color_func(word=None, font_size=None, position=None,  orientation=None, font_path=None, random_state=None):\n",
    "    h = int(188)\n",
    "    s = int(100.0 * 255 / 255.0)\n",
    "    l = int(100.0 * float(random_state.randint(60, 160)) / 255.0)\n",
    "\n",
    "    return \"hsl({}, {}%, {}%)\".format(h, s, l)"
   ]
  },
  {
   "cell_type": "code",
   "execution_count": 48,
   "id": "acfd5984",
   "metadata": {
    "execution": {
     "iopub.execute_input": "2024-05-02T05:22:44.090750Z",
     "iopub.status.busy": "2024-05-02T05:22:44.090353Z",
     "iopub.status.idle": "2024-05-02T05:22:53.827592Z",
     "shell.execute_reply": "2024-05-02T05:22:53.826189Z"
    },
    "papermill": {
     "duration": 9.766925,
     "end_time": "2024-05-02T05:22:53.831370",
     "exception": false,
     "start_time": "2024-05-02T05:22:44.064445",
     "status": "completed"
    },
    "tags": []
   },
   "outputs": [
    {
     "data": {
      "image/png": "[encoded data removed]",
      "text/plain": [
       "<Figure size 500x500 with 1 Axes>"
      ]
     },
     "metadata": {},
     "output_type": "display_data"
    }
   ],
   "source": [
    "from wordcloud import WordCloud,STOPWORDS\n",
    "plt.subplots(figsize=(5,5))\n",
    "wc = WordCloud(background_color=\"white\", max_words=100,\n",
    "               stopwords=STOPWORDS, max_font_size=128,\n",
    "               random_state=42, width=500, height=500,color_func=color_func)\n",
    "wc.generate(' '.join(books['Book-Title']))\n",
    "plt.imshow(wc, interpolation=\"bilinear\")\n",
    "plt.axis('off')\n",
    "plt.show()"
   ]
  },
  {
   "cell_type": "markdown",
   "id": "3faf8122",
   "metadata": {
    "papermill": {
     "duration": 0.028483,
     "end_time": "2024-05-02T05:22:53.894201",
     "exception": false,
     "start_time": "2024-05-02T05:22:53.865718",
     "status": "completed"
    },
    "tags": []
   },
   "source": [
    "****<h2>1.Collaborative Filtering****"
   ]
  },
  {
   "cell_type": "markdown",
   "id": "7f6a6715",
   "metadata": {
    "papermill": {
     "duration": 0.026515,
     "end_time": "2024-05-02T05:22:53.947555",
     "exception": false,
     "start_time": "2024-05-02T05:22:53.921040",
     "status": "completed"
    },
    "tags": []
   },
   "source": [
    "Cosine Similarity based Recommendation (Item-Item)"
   ]
  },
  {
   "cell_type": "code",
   "execution_count": 49,
   "id": "f143a112",
   "metadata": {
    "execution": {
     "iopub.execute_input": "2024-05-02T05:22:54.003185Z",
     "iopub.status.busy": "2024-05-02T05:22:54.002793Z",
     "iopub.status.idle": "2024-05-02T05:22:54.945696Z",
     "shell.execute_reply": "2024-05-02T05:22:54.944442Z"
    },
    "papermill": {
     "duration": 0.973847,
     "end_time": "2024-05-02T05:22:54.948433",
     "exception": false,
     "start_time": "2024-05-02T05:22:53.974586",
     "status": "completed"
    },
    "tags": []
   },
   "outputs": [],
   "source": [
    "ratings_with_name = ratings.merge(books,on='ISBN')"
   ]
  },
  {
   "cell_type": "code",
   "execution_count": 50,
   "id": "a2ace62e",
   "metadata": {
    "execution": {
     "iopub.execute_input": "2024-05-02T05:22:55.005159Z",
     "iopub.status.busy": "2024-05-02T05:22:55.004742Z",
     "iopub.status.idle": "2024-05-02T05:22:56.882647Z",
     "shell.execute_reply": "2024-05-02T05:22:56.881397Z"
    },
    "papermill": {
     "duration": 1.909676,
     "end_time": "2024-05-02T05:22:56.885345",
     "exception": false,
     "start_time": "2024-05-02T05:22:54.975669",
     "status": "completed"
    },
    "tags": []
   },
   "outputs": [],
   "source": [
    "x = ratings_with_name.groupby('User-ID').count()['Book-Rating'] > 200\n",
    "padhe_likhe_users = x[x].index\n",
    "filtered_rating = ratings_with_name[ratings_with_name['User-ID'].isin(padhe_likhe_users)]\n",
    "y = filtered_rating.groupby('Book-Title').count()['Book-Rating']>=50\n",
    "famous_books = y[y].index\n",
    "final_ratings = filtered_rating[filtered_rating['Book-Title'].isin(famous_books)]\n",
    "pt = final_ratings.pivot_table(index='Book-Title',columns='User-ID',values='Book-Rating')\n",
    "pt.fillna(0,inplace=True)"
   ]
  },
  {
   "cell_type": "code",
   "execution_count": 51,
   "id": "4df56e31",
   "metadata": {
    "execution": {
     "iopub.execute_input": "2024-05-02T05:22:56.942133Z",
     "iopub.status.busy": "2024-05-02T05:22:56.941723Z",
     "iopub.status.idle": "2024-05-02T05:22:56.965930Z",
     "shell.execute_reply": "2024-05-02T05:22:56.964693Z"
    },
    "papermill": {
     "duration": 0.05663,
     "end_time": "2024-05-02T05:22:56.969157",
     "exception": false,
     "start_time": "2024-05-02T05:22:56.912527",
     "status": "completed"
    },
    "tags": []
   },
   "outputs": [
    {
     "data": {
      "text/plain": [
       "(707, 707)"
      ]
     },
     "execution_count": 51,
     "metadata": {},
     "output_type": "execute_result"
    }
   ],
   "source": [
    "from sklearn.metrics.pairwise import cosine_similarity\n",
    "similarity_scores = cosine_similarity(pt)\n",
    "similarity_scores.shape"
   ]
  },
  {
   "cell_type": "code",
   "execution_count": 52,
   "id": "fa965c24",
   "metadata": {
    "execution": {
     "iopub.execute_input": "2024-05-02T05:22:57.064039Z",
     "iopub.status.busy": "2024-05-02T05:22:57.063306Z",
     "iopub.status.idle": "2024-05-02T05:22:57.080923Z",
     "shell.execute_reply": "2024-05-02T05:22:57.079670Z"
    },
    "papermill": {
     "duration": 0.06738,
     "end_time": "2024-05-02T05:22:57.083271",
     "exception": false,
     "start_time": "2024-05-02T05:22:57.015891",
     "status": "completed"
    },
    "tags": []
   },
   "outputs": [],
   "source": [
    "import numpy as np\n",
    "from sklearn.metrics.pairwise import cosine_similarity\n",
    "\n",
    "def recommend(book_name):\n",
    "    index = np.where(pt.index == book_name)[0][0]\n",
    "    similarity_scores = cosine_similarity(pt.values)\n",
    "    similar_items = sorted(list(enumerate(similarity_scores[index])), key=lambda x: x[1], reverse=True)[1:]\n",
    "    \n",
    "    recommended_books = []\n",
    "    for i in similar_items:\n",
    "        recommended_books.append(pt.index[i[0]])\n",
    "\n",
    "    # Number of relevant recommendations\n",
    "    relevant_items = final_ratings[final_ratings['Book-Title'].isin(recommended_books)]\n",
    "    num_relevant_recommendations = len(relevant_items)\n",
    "\n",
    "    # Total number of recommendations\n",
    "    total_recommendations = len(recommended_books)\n",
    "\n",
    "    # Total number of relevant items\n",
    "    total_relevant_items = len(final_ratings)\n",
    "\n",
    "    # Precision\n",
    "    precision = num_relevant_recommendations / total_recommendations if total_recommendations > 0 else 0\n",
    "\n",
    "    # Recall\n",
    "    recall = num_relevant_recommendations / total_relevant_items if total_relevant_items > 0 else 0\n",
    "\n",
    "    # F1-score\n",
    "    f1 = 2 * (precision * recall) / (precision + recall) if (precision + recall) > 0 else 0\n",
    "\n",
    "    data = []\n",
    "    for i in similar_items:\n",
    "        item = []\n",
    "        temp_df = books[books['Book-Title'] == pt.index[i[0]]]\n",
    "        item.extend(list(temp_df.drop_duplicates('Book-Title')['Book-Title'].values))\n",
    "        item.extend(list(temp_df.drop_duplicates('Book-Title')['Book-Author'].values))\n",
    "        \n",
    "        data.append(item)\n",
    "    \n",
    "    return data, precision, recall, f1\n",
    "\n"
   ]
  },
  {
   "cell_type": "markdown",
   "id": "62043b29",
   "metadata": {
    "papermill": {
     "duration": 0.026701,
     "end_time": "2024-05-02T05:22:57.137101",
     "exception": false,
     "start_time": "2024-05-02T05:22:57.110400",
     "status": "completed"
    },
    "tags": []
   },
   "source": [
    "<h3> Top 4 recommendations"
   ]
  },
  {
   "cell_type": "code",
   "execution_count": 53,
   "id": "27938f52",
   "metadata": {
    "execution": {
     "iopub.execute_input": "2024-05-02T05:22:57.194198Z",
     "iopub.status.busy": "2024-05-02T05:22:57.193257Z",
     "iopub.status.idle": "2024-05-02T05:23:12.197611Z",
     "shell.execute_reply": "2024-05-02T05:23:12.196131Z"
    },
    "papermill": {
     "duration": 15.035986,
     "end_time": "2024-05-02T05:23:12.200124",
     "exception": false,
     "start_time": "2024-05-02T05:22:57.164138",
     "status": "completed"
    },
    "tags": []
   },
   "outputs": [
    {
     "data": {
      "text/plain": [
       "[['The Eight', 'Katherine Neville'],\n",
       " ['A Heartbreaking Work of Staggering Genius', 'Dave Eggers'],\n",
       " ['Bridget Jones: The Edge of Reason', 'Helen Fielding'],\n",
       " [\"Drowning Ruth (Oprah's Book Club)\", 'CHRISTINA SCHWARZ']]"
      ]
     },
     "execution_count": 53,
     "metadata": {},
     "output_type": "execute_result"
    }
   ],
   "source": [
    "recommended_books, precision, recall, f1 = recommend(\"Year of Wonders\")\n",
    "recommended_books[:4]"
   ]
  },
  {
   "cell_type": "markdown",
   "id": "09a291eb",
   "metadata": {
    "papermill": {
     "duration": 0.028669,
     "end_time": "2024-05-02T05:23:12.256663",
     "exception": false,
     "start_time": "2024-05-02T05:23:12.227994",
     "status": "completed"
    },
    "tags": []
   },
   "source": [
    "<h3> Evaluating Model"
   ]
  },
  {
   "cell_type": "code",
   "execution_count": 54,
   "id": "dd02d025",
   "metadata": {
    "execution": {
     "iopub.execute_input": "2024-05-02T05:23:12.313624Z",
     "iopub.status.busy": "2024-05-02T05:23:12.313206Z",
     "iopub.status.idle": "2024-05-02T05:23:12.319299Z",
     "shell.execute_reply": "2024-05-02T05:23:12.318015Z"
    },
    "papermill": {
     "duration": 0.037362,
     "end_time": "2024-05-02T05:23:12.321537",
     "exception": false,
     "start_time": "2024-05-02T05:23:12.284175",
     "status": "completed"
    },
    "tags": []
   },
   "outputs": [
    {
     "name": "stdout",
     "output_type": "stream",
     "text": [
      "Precision: 83.0042492917847\n",
      "Recall: 0.9990282655392274\n",
      "F1-score: 1.9742941850279632\n"
     ]
    }
   ],
   "source": [
    "print(\"Precision:\", precision)\n",
    "print(\"Recall:\", recall)\n",
    "print(\"F1-score:\", f1)"
   ]
  },
  {
   "cell_type": "markdown",
   "id": "5aafdf58",
   "metadata": {
    "papermill": {
     "duration": 0.027482,
     "end_time": "2024-05-02T05:23:12.376321",
     "exception": false,
     "start_time": "2024-05-02T05:23:12.348839",
     "status": "completed"
    },
    "tags": []
   },
   "source": [
    "<h2><b>2.Nearest Neighbours based"
   ]
  },
  {
   "cell_type": "code",
   "execution_count": 55,
   "id": "8d8620ae",
   "metadata": {
    "execution": {
     "iopub.execute_input": "2024-05-02T05:23:12.435916Z",
     "iopub.status.busy": "2024-05-02T05:23:12.435115Z",
     "iopub.status.idle": "2024-05-02T05:23:14.159617Z",
     "shell.execute_reply": "2024-05-02T05:23:14.158436Z"
    },
    "papermill": {
     "duration": 1.757736,
     "end_time": "2024-05-02T05:23:14.162374",
     "exception": false,
     "start_time": "2024-05-02T05:23:12.404638",
     "status": "completed"
    },
    "tags": []
   },
   "outputs": [],
   "source": [
    "popularity_threshold = 50\n",
    "data = (dataset1.groupby(by = ['Book-Title'])['Book-Rating'].count().reset_index().\n",
    "        rename(columns = {'Book-Rating': 'Total-Rating'})[['Book-Title', 'Total-Rating']])\n",
    "\n",
    "result = pd.merge(data, dataset1, on='Book-Title')\n",
    "result = result[result['Total-Rating'] >= popularity_threshold]\n",
    "result = result.reset_index(drop = True)\n",
    "\n",
    "matrix = result.pivot_table(index = 'Book-Title', columns = 'User-ID', values = 'Book-Rating').fillna(0)\n",
    "up_matrix = csr_matrix(matrix)"
   ]
  },
  {
   "cell_type": "code",
   "execution_count": 56,
   "id": "665661cf",
   "metadata": {
    "execution": {
     "iopub.execute_input": "2024-05-02T05:23:14.219722Z",
     "iopub.status.busy": "2024-05-02T05:23:14.219290Z",
     "iopub.status.idle": "2024-05-02T05:23:14.237882Z",
     "shell.execute_reply": "2024-05-02T05:23:14.236525Z"
    },
    "papermill": {
     "duration": 0.050247,
     "end_time": "2024-05-02T05:23:14.240125",
     "exception": false,
     "start_time": "2024-05-02T05:23:14.189878",
     "status": "completed"
    },
    "tags": []
   },
   "outputs": [
    {
     "name": "stdout",
     "output_type": "stream",
     "text": [
      "\n",
      "Recommended books:\n",
      "\n",
      "Harry Potter and the Chamber of Secrets (Book 2)\n",
      "Harry Potter and the Prisoner of Azkaban (Book 3)\n"
     ]
    }
   ],
   "source": [
    "bookName = \"Harry Potter and the Sorcerer's Stone (Harry Potter (Paperback))\"\n",
    "number = 2\n",
    "model = NearestNeighbors(metric = 'cosine', algorithm = 'brute')\n",
    "model.fit(up_matrix)\n",
    "\n",
    "distances, indices = model.kneighbors(matrix.loc[bookName].values.reshape(1, -1), n_neighbors = number+1)\n",
    "print(\"\\nRecommended books:\\n\")\n",
    "for i in range(0, len(distances.flatten())):\n",
    "    if i > 0:\n",
    "        print(matrix.index[indices.flatten()[i]]) \n"
   ]
  },
  {
   "cell_type": "markdown",
   "id": "9f88f81f",
   "metadata": {
    "papermill": {
     "duration": 0.027189,
     "end_time": "2024-05-02T05:23:14.296112",
     "exception": false,
     "start_time": "2024-05-02T05:23:14.268923",
     "status": "completed"
    },
    "tags": []
   },
   "source": [
    "****<h2>3.Single Value Decomposition model (SVD)****"
   ]
  },
  {
   "cell_type": "code",
   "execution_count": 57,
   "id": "c4fc055f",
   "metadata": {
    "execution": {
     "iopub.execute_input": "2024-05-02T05:23:14.353541Z",
     "iopub.status.busy": "2024-05-02T05:23:14.353099Z",
     "iopub.status.idle": "2024-05-02T05:24:02.232001Z",
     "shell.execute_reply": "2024-05-02T05:24:02.230916Z"
    },
    "papermill": {
     "duration": 47.93889,
     "end_time": "2024-05-02T05:24:02.263171",
     "exception": false,
     "start_time": "2024-05-02T05:23:14.324281",
     "status": "completed"
    },
    "tags": []
   },
   "outputs": [
    {
     "name": "stdout",
     "output_type": "stream",
     "text": [
      "Evaluating RMSE of algorithm SVD on 5 split(s).\n",
      "\n",
      "                  Fold 1  Fold 2  Fold 3  Fold 4  Fold 5  Mean    Std     \n",
      "RMSE (testset)    1.6322  1.6328  1.6350  1.6496  1.6302  1.6360  0.0070  \n",
      "Fit time          7.09    7.12    7.19    7.21    7.29    7.18    0.07    \n",
      "Test time         1.08    0.61    0.60    0.61    0.61    0.70    0.19    \n",
      "CPU times: user 46.7 s, sys: 324 ms, total: 47 s\n",
      "Wall time: 47 s\n"
     ]
    },
    {
     "data": {
      "text/plain": [
       "{'test_rmse': array([1.63223135, 1.63284477, 1.63498143, 1.64959437, 1.63024225]),\n",
       " 'fit_time': (7.094005584716797,\n",
       "  7.119203567504883,\n",
       "  7.186842441558838,\n",
       "  7.213057518005371,\n",
       "  7.290497779846191),\n",
       " 'test_time': (1.0849721431732178,\n",
       "  0.6113753318786621,\n",
       "  0.5964343547821045,\n",
       "  0.6050317287445068,\n",
       "  0.6054449081420898)}"
      ]
     },
     "execution_count": 57,
     "metadata": {},
     "output_type": "execute_result"
    }
   ],
   "source": [
    "unique_ratings = ratings[ratings.ISBN.isin(books.ISBN)]\n",
    "ratings_explicit= unique_ratings[unique_ratings['Book-Rating'] != 0]   # explicit ratings represented by 1–10\n",
    "ratings_implicit= unique_ratings[unique_ratings['Book-Rating'] == 0]  \n",
    "from surprise import Reader, Dataset\n",
    "# Creating a 'Reader' object to set the limit of the ratings \n",
    "reader = Reader(rating_scale=(1, 10))\n",
    "data = Dataset.load_from_df(ratings_explicit, reader)\n",
    "from surprise import SVD, model_selection, accuracy\n",
    "model = SVD()\n",
    "\n",
    "# Train on books dataset\n",
    "%time model_selection.cross_validate(model, data, measures=['RMSE'], cv=5, verbose=True)"
   ]
  },
  {
   "cell_type": "code",
   "execution_count": 58,
   "id": "49e4c322",
   "metadata": {
    "execution": {
     "iopub.execute_input": "2024-05-02T05:24:02.321664Z",
     "iopub.status.busy": "2024-05-02T05:24:02.321263Z",
     "iopub.status.idle": "2024-05-02T05:24:11.078719Z",
     "shell.execute_reply": "2024-05-02T05:24:11.077486Z"
    },
    "papermill": {
     "duration": 8.789653,
     "end_time": "2024-05-02T05:24:11.081281",
     "exception": false,
     "start_time": "2024-05-02T05:24:02.291628",
     "status": "completed"
    },
    "tags": []
   },
   "outputs": [
    {
     "data": {
      "text/plain": [
       "<surprise.prediction_algorithms.matrix_factorization.SVD at 0x7abac0757160>"
      ]
     },
     "execution_count": 58,
     "metadata": {},
     "output_type": "execute_result"
    }
   ],
   "source": [
    "# train and test split\n",
    "trainset, testset = model_selection.train_test_split(data, test_size=0.2)\n",
    "\n",
    "# SVD model\n",
    "model = SVD()\n",
    "model.fit(trainset)"
   ]
  },
  {
   "cell_type": "code",
   "execution_count": 59,
   "id": "94801af5",
   "metadata": {
    "execution": {
     "iopub.execute_input": "2024-05-02T05:24:11.140045Z",
     "iopub.status.busy": "2024-05-02T05:24:11.138961Z",
     "iopub.status.idle": "2024-05-02T05:24:11.145669Z",
     "shell.execute_reply": "2024-05-02T05:24:11.144276Z"
    },
    "papermill": {
     "duration": 0.03807,
     "end_time": "2024-05-02T05:24:11.147774",
     "exception": false,
     "start_time": "2024-05-02T05:24:11.109704",
     "status": "completed"
    },
    "tags": []
   },
   "outputs": [
    {
     "name": "stdout",
     "output_type": "stream",
     "text": [
      "user: 276744     item: 038550120X r_ui = None   est = 7.36   {'was_impossible': False}\n"
     ]
    }
   ],
   "source": [
    "uid = 276744  \n",
    "iid = '038550120X' \n",
    "pred = model.predict(uid, iid, verbose=True)"
   ]
  },
  {
   "cell_type": "markdown",
   "id": "d402aac7",
   "metadata": {
    "papermill": {
     "duration": 0.028097,
     "end_time": "2024-05-02T05:24:11.203396",
     "exception": false,
     "start_time": "2024-05-02T05:24:11.175299",
     "status": "completed"
    },
    "tags": []
   },
   "source": [
    "<h3> Testing SVD model"
   ]
  },
  {
   "cell_type": "code",
   "execution_count": 60,
   "id": "4ce722d9",
   "metadata": {
    "execution": {
     "iopub.execute_input": "2024-05-02T05:24:11.261804Z",
     "iopub.status.busy": "2024-05-02T05:24:11.261418Z",
     "iopub.status.idle": "2024-05-02T05:24:11.303078Z",
     "shell.execute_reply": "2024-05-02T05:24:11.301864Z"
    },
    "papermill": {
     "duration": 0.074139,
     "end_time": "2024-05-02T05:24:11.306085",
     "exception": false,
     "start_time": "2024-05-02T05:24:11.231946",
     "status": "completed"
    },
    "tags": []
   },
   "outputs": [
    {
     "name": "stdout",
     "output_type": "stream",
     "text": [
      "The estimated rating for the book with ISBN code 038550120X from user #276744 is 7.36.\n",
      "\n",
      "The real rating given for this was 7.00.\n"
     ]
    }
   ],
   "source": [
    "# display estimated rating and real rating\n",
    "print(f'The estimated rating for the book with ISBN code {pred.iid} from user #{pred.uid} is {pred.est:.2f}.\\n')\n",
    "actual_rtg= ratings_explicit[(ratings_explicit['User-ID'] ==pred.uid) & \n",
    "                             (ratings_explicit.ISBN==pred.iid)]['Book-Rating'].values[0]\n",
    "print(f'The real rating given for this was {actual_rtg:.2f}.')"
   ]
  },
  {
   "cell_type": "markdown",
   "id": "4fc979fc",
   "metadata": {
    "papermill": {
     "duration": 0.028056,
     "end_time": "2024-05-02T05:24:11.362615",
     "exception": false,
     "start_time": "2024-05-02T05:24:11.334559",
     "status": "completed"
    },
    "tags": []
   },
   "source": [
    "<h3> Evaluating SVD"
   ]
  },
  {
   "cell_type": "code",
   "execution_count": 61,
   "id": "dd96cac8",
   "metadata": {
    "execution": {
     "iopub.execute_input": "2024-05-02T05:24:11.420421Z",
     "iopub.status.busy": "2024-05-02T05:24:11.420030Z",
     "iopub.status.idle": "2024-05-02T05:24:12.078313Z",
     "shell.execute_reply": "2024-05-02T05:24:12.077098Z"
    },
    "papermill": {
     "duration": 0.69018,
     "end_time": "2024-05-02T05:24:12.080804",
     "exception": false,
     "start_time": "2024-05-02T05:24:11.390624",
     "status": "completed"
    },
    "tags": []
   },
   "outputs": [
    {
     "name": "stdout",
     "output_type": "stream",
     "text": [
      "RMSE: 1.6343\n",
      "The accuracy is 1.634276328593218\n"
     ]
    }
   ],
   "source": [
    "predictions = model.test(testset)\n",
    "print(f\"The accuracy is {accuracy.rmse(predictions)}\")"
   ]
  }
 ],
 "metadata": {
  "kaggle": {
   "accelerator": "none",
   "dataSources": [
    {
     "datasetId": 825851,
     "sourceId": 1950576,
     "sourceType": "datasetVersion"
    }
   ],
   "dockerImageVersionId": 30513,
   "isGpuEnabled": false,
   "isInternetEnabled": false,
   "language": "python",
   "sourceType": "notebook"
  },
  "kernelspec": {
   "display_name": "Python 3",
   "language": "python",
   "name": "python3"
  },
  "language_info": {
   "codemirror_mode": {
    "name": "ipython",
    "version": 3
   },
   "file_extension": ".py",
   "mimetype": "text/x-python",
   "name": "python",
   "nbconvert_exporter": "python",
   "pygments_lexer": "ipython3",
   "version": "3.10.10"
  },
  "papermill": {
   "default_parameters": {},
   "duration": 207.44705,
   "end_time": "2024-05-02T05:24:14.033993",
   "environment_variables": {},
   "exception": null,
   "input_path": "__notebook__.ipynb",
   "output_path": "__notebook__.ipynb",
   "parameters": {},
   "start_time": "2024-05-02T05:20:46.586943",
   "version": "2.4.0"
  }
 },
 "nbformat": 4,
 "nbformat_minor": 5
}
